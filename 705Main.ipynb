{
  "nbformat": 4,
  "nbformat_minor": 0,
  "metadata": {
    "colab": {
      "name": "705Main.ipynb",
      "provenance": [],
      "collapsed_sections": [],
      "authorship_tag": "ABX9TyMnvTbeNE0UD9HHfNz852+9",
      "include_colab_link": true
    },
    "kernelspec": {
      "name": "python3",
      "display_name": "Python 3"
    },
    "language_info": {
      "name": "python"
    },
    "accelerator": "GPU",
    "gpuClass": "standard"
  },
  "cells": [
    {
      "cell_type": "markdown",
      "metadata": {
        "id": "view-in-github",
        "colab_type": "text"
      },
      "source": [
        "<a href=\"https://colab.research.google.com/github/JamieCDev20/GAM705/blob/main/705Main.ipynb\" target=\"_parent\"><img src=\"https://colab.research.google.com/assets/colab-badge.svg\" alt=\"Open In Colab\"/></a>"
      ]
    },
    {
      "cell_type": "markdown",
      "source": [
        "##Setup"
      ],
      "metadata": {
        "id": "0sile4crkxtB"
      }
    },
    {
      "cell_type": "markdown",
      "source": [
        "### Imports"
      ],
      "metadata": {
        "id": "CgROgKUq4KBl"
      }
    },
    {
      "cell_type": "markdown",
      "source": [
        "###Too big and annoying"
      ],
      "metadata": {
        "id": "qYe5Q5eChHfD"
      }
    },
    {
      "cell_type": "code",
      "source": [
        "!pip install pyquaternion\n",
        "!pip install PyDrive"
      ],
      "metadata": {
        "id": "xMlNt9EYOaXs",
        "outputId": "6bbd44db-2216-4fd6-c503-07b8a16b3831",
        "colab": {
          "base_uri": "https://localhost:8080/"
        }
      },
      "execution_count": 1,
      "outputs": [
        {
          "output_type": "stream",
          "name": "stdout",
          "text": [
            "Looking in indexes: https://pypi.org/simple, https://us-python.pkg.dev/colab-wheels/public/simple/\n",
            "Collecting pyquaternion\n",
            "  Downloading pyquaternion-0.9.9-py3-none-any.whl (14 kB)\n",
            "Requirement already satisfied: numpy in /usr/local/lib/python3.7/dist-packages (from pyquaternion) (1.21.6)\n",
            "Installing collected packages: pyquaternion\n",
            "Successfully installed pyquaternion-0.9.9\n",
            "Looking in indexes: https://pypi.org/simple, https://us-python.pkg.dev/colab-wheels/public/simple/\n",
            "Requirement already satisfied: PyDrive in /usr/local/lib/python3.7/dist-packages (1.3.1)\n",
            "Requirement already satisfied: oauth2client>=4.0.0 in /usr/local/lib/python3.7/dist-packages (from PyDrive) (4.1.3)\n",
            "Requirement already satisfied: google-api-python-client>=1.2 in /usr/local/lib/python3.7/dist-packages (from PyDrive) (1.12.11)\n",
            "Requirement already satisfied: PyYAML>=3.0 in /usr/local/lib/python3.7/dist-packages (from PyDrive) (3.13)\n",
            "Requirement already satisfied: google-auth-httplib2>=0.0.3 in /usr/local/lib/python3.7/dist-packages (from google-api-python-client>=1.2->PyDrive) (0.0.4)\n",
            "Requirement already satisfied: six<2dev,>=1.13.0 in /usr/local/lib/python3.7/dist-packages (from google-api-python-client>=1.2->PyDrive) (1.15.0)\n",
            "Requirement already satisfied: httplib2<1dev,>=0.15.0 in /usr/local/lib/python3.7/dist-packages (from google-api-python-client>=1.2->PyDrive) (0.17.4)\n",
            "Requirement already satisfied: google-auth<3dev,>=1.16.0 in /usr/local/lib/python3.7/dist-packages (from google-api-python-client>=1.2->PyDrive) (1.35.0)\n",
            "Requirement already satisfied: google-api-core<3dev,>=1.21.0 in /usr/local/lib/python3.7/dist-packages (from google-api-python-client>=1.2->PyDrive) (1.31.6)\n",
            "Requirement already satisfied: uritemplate<4dev,>=3.0.0 in /usr/local/lib/python3.7/dist-packages (from google-api-python-client>=1.2->PyDrive) (3.0.1)\n",
            "Requirement already satisfied: requests<3.0.0dev,>=2.18.0 in /usr/local/lib/python3.7/dist-packages (from google-api-core<3dev,>=1.21.0->google-api-python-client>=1.2->PyDrive) (2.23.0)\n",
            "Requirement already satisfied: pytz in /usr/local/lib/python3.7/dist-packages (from google-api-core<3dev,>=1.21.0->google-api-python-client>=1.2->PyDrive) (2022.1)\n",
            "Requirement already satisfied: protobuf<4.0.0dev,>=3.12.0 in /usr/local/lib/python3.7/dist-packages (from google-api-core<3dev,>=1.21.0->google-api-python-client>=1.2->PyDrive) (3.17.3)\n",
            "Requirement already satisfied: setuptools>=40.3.0 in /usr/local/lib/python3.7/dist-packages (from google-api-core<3dev,>=1.21.0->google-api-python-client>=1.2->PyDrive) (57.4.0)\n",
            "Requirement already satisfied: packaging>=14.3 in /usr/local/lib/python3.7/dist-packages (from google-api-core<3dev,>=1.21.0->google-api-python-client>=1.2->PyDrive) (21.3)\n",
            "Requirement already satisfied: googleapis-common-protos<2.0dev,>=1.6.0 in /usr/local/lib/python3.7/dist-packages (from google-api-core<3dev,>=1.21.0->google-api-python-client>=1.2->PyDrive) (1.56.4)\n",
            "Requirement already satisfied: pyasn1-modules>=0.2.1 in /usr/local/lib/python3.7/dist-packages (from google-auth<3dev,>=1.16.0->google-api-python-client>=1.2->PyDrive) (0.2.8)\n",
            "Requirement already satisfied: cachetools<5.0,>=2.0.0 in /usr/local/lib/python3.7/dist-packages (from google-auth<3dev,>=1.16.0->google-api-python-client>=1.2->PyDrive) (4.2.4)\n",
            "Requirement already satisfied: rsa<5,>=3.1.4 in /usr/local/lib/python3.7/dist-packages (from google-auth<3dev,>=1.16.0->google-api-python-client>=1.2->PyDrive) (4.9)\n",
            "Requirement already satisfied: pyasn1>=0.1.7 in /usr/local/lib/python3.7/dist-packages (from oauth2client>=4.0.0->PyDrive) (0.4.8)\n",
            "Requirement already satisfied: pyparsing!=3.0.5,>=2.0.2 in /usr/local/lib/python3.7/dist-packages (from packaging>=14.3->google-api-core<3dev,>=1.21.0->google-api-python-client>=1.2->PyDrive) (3.0.9)\n",
            "Requirement already satisfied: idna<3,>=2.5 in /usr/local/lib/python3.7/dist-packages (from requests<3.0.0dev,>=2.18.0->google-api-core<3dev,>=1.21.0->google-api-python-client>=1.2->PyDrive) (2.10)\n",
            "Requirement already satisfied: urllib3!=1.25.0,!=1.25.1,<1.26,>=1.21.1 in /usr/local/lib/python3.7/dist-packages (from requests<3.0.0dev,>=2.18.0->google-api-core<3dev,>=1.21.0->google-api-python-client>=1.2->PyDrive) (1.24.3)\n",
            "Requirement already satisfied: chardet<4,>=3.0.2 in /usr/local/lib/python3.7/dist-packages (from requests<3.0.0dev,>=2.18.0->google-api-core<3dev,>=1.21.0->google-api-python-client>=1.2->PyDrive) (3.0.4)\n",
            "Requirement already satisfied: certifi>=2017.4.17 in /usr/local/lib/python3.7/dist-packages (from requests<3.0.0dev,>=2.18.0->google-api-core<3dev,>=1.21.0->google-api-python-client>=1.2->PyDrive) (2022.6.15)\n"
          ]
        }
      ]
    },
    {
      "cell_type": "markdown",
      "source": [
        "###This is fine"
      ],
      "metadata": {
        "id": "YXbMI8nThKiU"
      }
    },
    {
      "cell_type": "code",
      "source": [
        "import numpy as np\n",
        "import os\n",
        "from pyquaternion import Quaternion\n",
        "import tensorflow as tf\n",
        "from tensorflow.keras.models import Sequential\n",
        "from tensorflow.keras.layers import Input, Dense\n",
        "from random import random as r\n",
        "import matplotlib.pyplot as plt\n",
        "import time\n",
        "from google.colab import drive"
      ],
      "metadata": {
        "id": "8EzXJwOi4Jqu"
      },
      "execution_count": 2,
      "outputs": []
    },
    {
      "cell_type": "code",
      "source": [
        "drive.mount('/content/drive')\n",
        "rootPath = '/content/drive/MyDrive/AnimAI'\n",
        "\n",
        "aiOutPath = f'{rootPath}/aiCheckpoints'\n",
        "os.makedirs(aiOutPath, exist_ok=True)\n"
      ],
      "metadata": {
        "id": "3MkbBYWxOq0d",
        "outputId": "6baebe87-5676-40fe-e12e-de82b13fae4e",
        "colab": {
          "base_uri": "https://localhost:8080/"
        }
      },
      "execution_count": 3,
      "outputs": [
        {
          "output_type": "stream",
          "name": "stdout",
          "text": [
            "Mounted at /content/drive\n"
          ]
        }
      ]
    },
    {
      "cell_type": "code",
      "source": [
        "from google.colab import drive\n",
        "drive.mount('/content/drive')"
      ],
      "metadata": {
        "id": "q9z1jyiOg_da"
      },
      "execution_count": null,
      "outputs": []
    },
    {
      "cell_type": "markdown",
      "source": [
        "### File Reader"
      ],
      "metadata": {
        "id": "89gQzpdQkJ8j"
      }
    },
    {
      "cell_type": "code",
      "execution_count": null,
      "metadata": {
        "id": "_pKPS4kSfUh9"
      },
      "outputs": [],
      "source": [
        "class AnimFileReader():\n",
        "  ## \"#\" breaks between nodes | \":\" breaks between values\n",
        "\n",
        "  def __init__(self, _path):\n",
        "    self.path = _path\n",
        "    self.animData = np.array(float)\n",
        "    self.__ReadAnim__(self.path)\n",
        "\n",
        "  def __ReadAnim__(self, path):\n",
        "    file = open(path, 'r')\n",
        "    overallData = file.read()\n",
        "    overallData = overallData.split(\"SS\")\n",
        "    \n",
        "    del overallData[0]\n",
        "\n",
        "    jointCount = len(overallData)\n",
        "    frameCount = len(overallData[0].split('#')[0].split(':')) - 1\n",
        "    \n",
        "    dataLayer = np.array(float)\n",
        "\n",
        "    trainingData = np.array(float)\n",
        "\n",
        "    for j in range(0, frameCount):\n",
        "      for i in range(0, jointCount):\n",
        "\n",
        "        rots = overallData[i].split('#')[0].split(':')\n",
        "        poss = overallData[i].split('#')[1].split(':')\n",
        "\n",
        "        del rots[0]\n",
        "        del poss[0]\n",
        "\n",
        "        #print(len(rots))\n",
        "        #print(rots[0], rots[1], rots[2], rots[3])\n",
        "        #print(dataLayer.shape)\n",
        "        temp = rots[j].split(',')\n",
        "        dataLayer = np.append(dataLayer, temp)\n",
        "        \n",
        "        temp = poss[j].split(',')\n",
        "        dataLayer = np.append(dataLayer, temp)\n",
        "        #print(dataLayer.shape)\n",
        "      dataLayer = np.delete(dataLayer, 0)\n",
        "      trainingData = np.append(trainingData, dataLayer);\n",
        "      dataLayer = np.array(float)\n",
        "      print(\"Completed: \", j + 1)\n",
        "\n",
        "    print(\"Total its: \", (i + 1) * (j + 1))\n",
        "    \n",
        "    trainingData = np.delete(trainingData, 0)\n",
        "    \n",
        "    print(trainingData.shape)\n",
        "    print(trainingData[0])\n",
        "    \n",
        "    self.animData = trainingData;\n",
        "   "
      ]
    },
    {
      "cell_type": "markdown",
      "source": [
        "# Curve GAN Training"
      ],
      "metadata": {
        "id": "HwXCl4LPQK0r"
      }
    },
    {
      "cell_type": "markdown",
      "source": [
        "##Training Vars"
      ],
      "metadata": {
        "id": "Z_HgrFkvR3sP"
      }
    },
    {
      "cell_type": "code",
      "source": [
        "def Func(x):\n",
        "  return 0.08 * (x-25)**2 - 10"
      ],
      "metadata": {
        "id": "9JcEOpefV5gR"
      },
      "execution_count": 4,
      "outputs": []
    },
    {
      "cell_type": "code",
      "source": [
        "genNoiseDim = 1"
      ],
      "metadata": {
        "id": "191oA-Gto-JB"
      },
      "execution_count": 5,
      "outputs": []
    },
    {
      "cell_type": "code",
      "source": [
        "batchSize = 64\n",
        "iterations = 10000\n",
        "\n",
        "testSeed = np.random.uniform(0, 50, [batchSize, genNoiseDim])\n",
        "\n",
        "holder = []\n",
        "for i in range(batchSize):\n",
        "  holder.append(Func(testSeed[i]))\n",
        "\n",
        "trueData = np.array(holder)"
      ],
      "metadata": {
        "id": "bZC3hJHVR6J5"
      },
      "execution_count": 6,
      "outputs": []
    },
    {
      "cell_type": "markdown",
      "source": [
        "##Networks"
      ],
      "metadata": {
        "id": "rkK3pOeuR8Gs"
      }
    },
    {
      "cell_type": "markdown",
      "source": [
        "Discriminator"
      ],
      "metadata": {
        "id": "ZPHdgVl2RhEW"
      }
    },
    {
      "cell_type": "code",
      "source": [
        "discriminator = Sequential([\n",
        "    Input(shape=(2)),\n",
        "    Dense(50, activation='relu'),\n",
        "    Dense(1, activation='sigmoid')\n",
        "])\n",
        "#discriminator.compile(optimizer=\"Adam\", loss=\"mse\", metrics=[\"Accuracy\"])"
      ],
      "metadata": {
        "id": "JEXLQLiSQM2Y"
      },
      "execution_count": null,
      "outputs": []
    },
    {
      "cell_type": "markdown",
      "source": [
        "Generator"
      ],
      "metadata": {
        "id": "tw0Ye_lFRjm3"
      }
    },
    {
      "cell_type": "code",
      "source": [
        "generator = Sequential([\n",
        "      Input(shape=(genNoiseDim)),\n",
        "      Dense(50, activation='relu', use_bias = True),\n",
        "      Dense(50, activation='relu'),\n",
        "      Dense(10, activation='relu'),\n",
        "      Dense(1)\n",
        "])\n",
        "#generator.compile(optimizer=\"Adam\", loss=\"mse\", metrics=[\"Accuracy\"])"
      ],
      "metadata": {
        "id": "dNT2ka7dRlE2"
      },
      "execution_count": 7,
      "outputs": []
    },
    {
      "cell_type": "markdown",
      "source": [
        "##Training"
      ],
      "metadata": {
        "id": "tKvU6iKUX-ZB"
      }
    },
    {
      "cell_type": "code",
      "source": [
        "def GenerateRealBatch(size, _noise):\n",
        "  batch = []\n",
        "  for i in range(size):\n",
        "    batch.append(Func(_noise[i]))\n",
        "  return np.array(batch)"
      ],
      "metadata": {
        "id": "5zaZU3TLnXFo"
      },
      "execution_count": null,
      "outputs": []
    },
    {
      "cell_type": "code",
      "source": [
        "crossEntropy = tf.keras.losses.BinaryCrossentropy(from_logits=False)\n",
        "\n",
        "genOp = tf.keras.optimizers.Adam(1e-4)\n",
        "discOp = tf.keras.optimizers.Adam(1e-4)\n",
        "\n",
        "def DiscLossCalculation(realResults, fakeResults):\n",
        "  fLoss = crossEntropy(tf.zeros_like(fakeResults), fakeResults)\n",
        "  rLoss = crossEntropy(tf.ones_like(realResults), realResults)\n",
        "  return fLoss + rLoss\n",
        "\n",
        "def GenLossCalculation(fakeResults):\n",
        "  return crossEntropy(tf.ones_like(fakeResults), fakeResults)"
      ],
      "metadata": {
        "id": "bBo7oe3gYBuX"
      },
      "execution_count": null,
      "outputs": []
    },
    {
      "cell_type": "code",
      "source": [
        "checkpointDir = './training_checkpoints'\n",
        "checkpointPrefix = os.path.join(checkpointDir, \"ckpt\")\n",
        "checkpoint = tf.train.Checkpoint(generator_optimizer=genOp,\n",
        "                                 discriminator_optimizer=discOp,\n",
        "                                 generator=generator,\n",
        "                                 discriminator=discriminator)"
      ],
      "metadata": {
        "id": "jNWykON1j0Bi"
      },
      "execution_count": null,
      "outputs": []
    },
    {
      "cell_type": "code",
      "source": [
        "@tf.function\n",
        "def TrainingStep():\n",
        "  curNoise = np.random.uniform(0, 50, [batchSize, genNoiseDim])\n",
        "  realBatch = GenerateRealBatch(batchSize, curNoise)\n",
        "\n",
        "  with tf.GradientTape() as genGradTape, tf.GradientTape() as discGradTape:\n",
        "    generatedBatch = generator(curNoise)\n",
        "\n",
        "    realResult = discriminator(np.append(curNoise, realBatch, 1), training = True)\n",
        "    fakeResult = discriminator(tf.experimental.numpy.append(curNoise, generatedBatch, 1), training = True)\n",
        "\n",
        "    genLoss = GenLossCalculation(fakeResult)\n",
        "    discLoss = DiscLossCalculation(realResult, fakeResult)\n",
        "\n",
        "    genGrads = genGradTape.gradient(genLoss, generator.trainable_variables)\n",
        "    discGrads = discGradTape.gradient(discLoss, discriminator.trainable_variables)\n",
        "\n",
        "    genOp.apply_gradients(zip(genGrads, generator.trainable_variables))\n",
        "    discOp.apply_gradients(zip(discGrads, discriminator.trainable_variables))\n",
        "\n",
        "    return discLoss, genLoss\n"
      ],
      "metadata": {
        "id": "qt38IUKEBriL"
      },
      "execution_count": null,
      "outputs": []
    },
    {
      "cell_type": "code",
      "source": [
        "def Training(epochs):\n",
        "  \n",
        "  dLossA = []\n",
        "  gLossA = []\n",
        "\n",
        "  for epoch in range(epochs):\n",
        "    print(\"Epoch: \", epoch + 1)\n",
        "\n",
        "    for i in range(iterations):\n",
        "      dLoss, gLoss = TrainingStep()\n",
        "    \n",
        "    dLossA.append(dLoss)\n",
        "    gLossA.append(gLoss)\n",
        "    \n",
        "    if (epoch + 1) % 1 != 0:\n",
        "      ShowCurvePlot()\n",
        "      #checkpoint.save(file_prefix = checkpointPrefix)\n",
        "    \n",
        "    plt.clf()\n",
        "    plt.plot(dLossA, c = \"blue\")\n",
        "    plt.plot(gLossA, c = \"red\")\n",
        "    plt.show()\n"
      ],
      "metadata": {
        "id": "CoMLhQJXsGUs"
      },
      "execution_count": null,
      "outputs": []
    },
    {
      "cell_type": "markdown",
      "source": [
        "##Test"
      ],
      "metadata": {
        "id": "ffU05J2c7ydm"
      }
    },
    {
      "cell_type": "code",
      "source": [
        "def ShowCurvePlot():\n",
        "  plt.clf()\n",
        "  plt.scatter(testSeed, generator.predict(testSeed), c=\"red\")\n",
        "  plt.scatter(testSeed, trueData, c=\"blue\")\n",
        "  plt.show()"
      ],
      "metadata": {
        "id": "-Aq3c_x5IXiP"
      },
      "execution_count": 14,
      "outputs": []
    },
    {
      "cell_type": "code",
      "source": [
        "ShowCurvePlot()\n",
        "Training(20)\n",
        "ShowCurvePlot()\n",
        "#checkpoint.restore(tf.train.latest_checkpoint(checkpointDir))\n",
        "#print(testSeed)\n",
        "#print(generator.predict(testSeed))"
      ],
      "metadata": {
        "id": "kdICqFFv5rgP"
      },
      "execution_count": null,
      "outputs": []
    },
    {
      "cell_type": "markdown",
      "source": [
        "# Sine GAN Training"
      ],
      "metadata": {
        "id": "jfhfbcTxrWBw"
      }
    },
    {
      "cell_type": "markdown",
      "source": [
        "## Training Vars"
      ],
      "metadata": {
        "id": "LUkeeahzrgP6"
      }
    },
    {
      "cell_type": "code",
      "source": [
        "def S(x):\n",
        "  return np.around(np.sin(x) * (1 - (x/20)), 2)\n",
        "\n",
        "def C(x):\n",
        "  return np.around(np.cos(x) * (1 - (x/20)), 2)\n"
      ],
      "metadata": {
        "id": "IIBkcyTsrfEV"
      },
      "execution_count": null,
      "outputs": []
    },
    {
      "cell_type": "code",
      "source": [
        "genNoiseDim = 2"
      ],
      "metadata": {
        "id": "W-L0AH41gwyR"
      },
      "execution_count": null,
      "outputs": []
    },
    {
      "cell_type": "code",
      "source": [
        "batchSize = 64\n",
        "iterations = 10000"
      ],
      "metadata": {
        "id": "rW6Nhwangypv"
      },
      "execution_count": null,
      "outputs": []
    },
    {
      "cell_type": "markdown",
      "source": [
        "## Networks"
      ],
      "metadata": {
        "id": "UrPtKcFhrlM-"
      }
    },
    {
      "cell_type": "markdown",
      "source": [
        "Discriminator"
      ],
      "metadata": {
        "id": "4JpGWjEvpp1Z"
      }
    },
    {
      "cell_type": "code",
      "source": [
        "sinDiscriminator = Sequential([\n",
        "    Input(shape=(3)),\n",
        "    Dense(128, activation='relu'),\n",
        "    Dense(128, activation='relu'),\n",
        "    Dense(128, activation='relu'),\n",
        "    Dense(64, activation='relu'),\n",
        "    Dense(32, activation='relu'),\n",
        "    Dense(1, activation='sigmoid')\n",
        "])"
      ],
      "metadata": {
        "id": "D9CI3r1-pbqA"
      },
      "execution_count": null,
      "outputs": []
    },
    {
      "cell_type": "markdown",
      "source": [
        "Generator"
      ],
      "metadata": {
        "id": "nwwujb58prdc"
      }
    },
    {
      "cell_type": "code",
      "source": [
        "sinGenerator = Sequential([\n",
        "      Input(shape=(2)),\n",
        "      Dense(50, activation='relu', use_bias = True),\n",
        "      Dense(50, activation='relu'),\n",
        "      Dense(50, activation='relu'),\n",
        "      Dense(50, activation='relu'),\n",
        "      Dense(10, activation='relu'),\n",
        "      Dense(1)\n",
        "])"
      ],
      "metadata": {
        "id": "8RPmnQInpsff"
      },
      "execution_count": null,
      "outputs": []
    },
    {
      "cell_type": "markdown",
      "source": [
        "## Training Setup"
      ],
      "metadata": {
        "id": "WLD6X4DkriKl"
      }
    },
    {
      "cell_type": "code",
      "source": [
        "def SinGenerateRealBatch(size, _curBatch, _noise):\n",
        "  rBatch = []\n",
        "  data = np.copy(_noise)\n",
        "  for i in range(size):\n",
        "    rBatch.append(S(data[i][0] + 0.25))\n",
        "  return np.hstack([_curBatch, np.array(rBatch).reshape(size, 1)])\n",
        "\n",
        "def SinGenerateGeneratorBatch(size, _noise):\n",
        "  batch = []\n",
        "\n",
        "  return np.array(batch)\n",
        "\n",
        "def SinGenerateBatchStart(size, _noise):\n",
        "  batch = []\n",
        "  xDat = np.copy(_noise)\n",
        "  for i in range(size):\n",
        "    batch.append(C(xDat[i]))\n",
        "    xDat[i] = S(xDat[i])\n",
        "  return np.append(xDat, batch, 1)\n",
        "\n",
        "#noise = np.around(np.random.uniform(0, 2*np.pi, [20, 1]), 2)\n",
        "\n",
        "#print(np.append(GenerateBatchStart(20, noise), GenerateRealBatch(20, noise), 1))"
      ],
      "metadata": {
        "id": "RQX9ppO0ZI56"
      },
      "execution_count": null,
      "outputs": []
    },
    {
      "cell_type": "code",
      "source": [
        "sinCrossEntropy = tf.keras.losses.BinaryCrossentropy(from_logits=False)\n",
        "\n",
        "sinGenOp = tf.keras.optimizers.Adam(1e-4)\n",
        "sinDiscOp = tf.keras.optimizers.Adam(1e-4)\n",
        "\n",
        "def SinDiscLossCalculation(_realResults, _fakeResults):\n",
        "  fLoss = sinCrossEntropy(tf.zeros_like(_fakeResults), _fakeResults)\n",
        "  rLoss = sinCrossEntropy(tf.ones_like(_realResults), _realResults)\n",
        "  return fLoss + rLoss\n",
        "\n",
        "def SinGenLossCalculation(_fakeResults):\n",
        "  return sinCrossEntropy(tf.ones_like(_fakeResults), _fakeResults)"
      ],
      "metadata": {
        "id": "Q9CzqlI6ZcPK"
      },
      "execution_count": null,
      "outputs": []
    },
    {
      "cell_type": "code",
      "source": [
        "checkpointDir = './training_checkpoints'\n",
        "checkpointPrefix = os.path.join(checkpointDir, \"ckpt\")\n",
        "checkpoint = tf.train.Checkpoint(generator_optimizer=sinGenOp,\n",
        "                                 discriminator_optimizer=sinDiscOp,\n",
        "                                 generator=sinGenerator,\n",
        "                                 discriminator=sinDiscriminator)"
      ],
      "metadata": {
        "id": "84jGUDNuZvlO"
      },
      "execution_count": null,
      "outputs": []
    },
    {
      "cell_type": "code",
      "source": [
        "@tf.function\n",
        "def SinTrainingStep():\n",
        "  curNoise = np.around(np.random.uniform(0, 6.4*np.pi, [batchSize, 1]), 2)\n",
        "  genBatch = SinGenerateBatchStart(batchSize, curNoise)\n",
        "  #print(genBatch)\n",
        "  #print(\"###############\")\n",
        "  realBatch = SinGenerateRealBatch(batchSize, genBatch, curNoise)\n",
        "  #print(realBatch)\n",
        "\n",
        "  with tf.GradientTape() as genGradTapeS, tf.GradientTape() as discGradTapeS:\n",
        "    generatedBatch = sinGenerator(genBatch)\n",
        "\n",
        "    realResult = sinDiscriminator(realBatch, training = True)\n",
        "    fakeResult = sinDiscriminator(tf.experimental.numpy.append(genBatch, generatedBatch, 1), training = True)\n",
        "\n",
        "    genLoss = SinGenLossCalculation(fakeResult)\n",
        "    discLoss = SinDiscLossCalculation(realResult, fakeResult)\n",
        "\n",
        "    genGrads = genGradTapeS.gradient(genLoss, sinGenerator.trainable_variables)\n",
        "    discGrads = discGradTapeS.gradient(discLoss, sinDiscriminator.trainable_variables)\n",
        "\n",
        "    sinGenOp.apply_gradients(zip(genGrads, sinGenerator.trainable_variables))\n",
        "    sinDiscOp.apply_gradients(zip(discGrads, sinDiscriminator.trainable_variables))\n",
        "\n",
        "    return discLoss, genLoss"
      ],
      "metadata": {
        "id": "P0kCqfGmZ05Q"
      },
      "execution_count": null,
      "outputs": []
    },
    {
      "cell_type": "code",
      "source": [
        "def Training(epochs):\n",
        "  \n",
        "  dLossA = []\n",
        "  gLossA = []\n",
        "\n",
        "  for epoch in range(epochs):\n",
        "    print(\"Epoch: \", epoch + 1)\n",
        "\n",
        "    for i in range(iterations):\n",
        "      dLoss, gLoss = SinTrainingStep()\n",
        "    \n",
        "    dLossA.append(dLoss)\n",
        "    gLossA.append(gLoss)\n",
        "    \n",
        "    if (epoch + 1) % 1 != 0:\n",
        "      ShowSinPlot()\n",
        "      #checkpoint.save(file_prefix = checkpointPrefix)\n",
        "    \n",
        "    plt.clf()\n",
        "    plt.plot(dLossA, c = \"blue\")\n",
        "    plt.plot(gLossA, c = \"red\")\n",
        "    plt.show()\n"
      ],
      "metadata": {
        "id": "X5HkK0GLZ4vk"
      },
      "execution_count": null,
      "outputs": []
    },
    {
      "cell_type": "markdown",
      "source": [
        "## Test"
      ],
      "metadata": {
        "id": "dIhKTvOIrmm9"
      }
    },
    {
      "cell_type": "markdown",
      "source": [
        "### Show Plot"
      ],
      "metadata": {
        "id": "dUIvOQfgqbbi"
      }
    },
    {
      "cell_type": "code",
      "source": [
        "def ShowSinPlot():\n",
        "  plt.clf()\n",
        "  nums = np.arange(0, 7, 0.25)\n",
        "  xD = []\n",
        "  yD = []\n",
        "  for i in range(nums.shape[0]):\n",
        "    xD.append(S(nums[i]))\n",
        "    yD.append(C(nums[i]))\n",
        "  \n",
        "  dat = np.stack((xD, yD), axis=1)\n",
        "\n",
        "  tr = []\n",
        "  for i in range(nums.shape[0]):\n",
        "    tr.append(S(nums[i] + 0.25))\n",
        "\n",
        "  plt.scatter(nums, sinGenerator.predict([dat]), c=\"red\")\n",
        "  plt.scatter(nums, tr, c=\"blue\")\n",
        "  plt.show()\n"
      ],
      "metadata": {
        "id": "jEkvTWRwZLru"
      },
      "execution_count": null,
      "outputs": []
    },
    {
      "cell_type": "markdown",
      "source": [
        "### Train"
      ],
      "metadata": {
        "id": "8yy4zxaWqeXv"
      }
    },
    {
      "cell_type": "code",
      "source": [
        "ShowSinPlot()\n",
        "Training(40)\n",
        "ShowSinPlot()"
      ],
      "metadata": {
        "id": "YJrad69aaItI",
        "outputId": "3ca44c8a-dea3-4f8b-8325-6ea6180d8017",
        "colab": {
          "base_uri": "https://localhost:8080/",
          "height": 880
        }
      },
      "execution_count": null,
      "outputs": [
        {
          "output_type": "display_data",
          "data": {
            "text/plain": [
              "<Figure size 432x288 with 1 Axes>"
            ],
            "image/png": "[encoded data removed]"
          },
          "metadata": {
            "needs_background": "light"
          }
        },
        {
          "output_type": "stream",
          "name": "stdout",
          "text": [
            "Epoch:  1\n"
          ]
        },
        {
          "output_type": "display_data",
          "data": {
            "text/plain": [
              "<Figure size 432x288 with 1 Axes>"
            ],
            "image/png": "[encoded data removed]"
          },
          "metadata": {
            "needs_background": "light"
          }
        },
        {
          "output_type": "stream",
          "name": "stdout",
          "text": [
            "Epoch:  2\n"
          ]
        },
        {
          "output_type": "error",
          "ename": "KeyboardInterrupt",
          "evalue": "ignored",
          "traceback": [
            "\u001b[0;31m---------------------------------------------------------------------------\u001b[0m",
            "\u001b[0;31mKeyboardInterrupt\u001b[0m                         Traceback (most recent call last)",
            "\u001b[0;32m<ipython-input-118-36f223850d5a>\u001b[0m in \u001b[0;36m<module>\u001b[0;34m()\u001b[0m\n\u001b[1;32m      1\u001b[0m \u001b[0mShowSinPlot\u001b[0m\u001b[0;34m(\u001b[0m\u001b[0;34m)\u001b[0m\u001b[0;34m\u001b[0m\u001b[0;34m\u001b[0m\u001b[0m\n\u001b[0;32m----> 2\u001b[0;31m \u001b[0mTraining\u001b[0m\u001b[0;34m(\u001b[0m\u001b[0;36m40\u001b[0m\u001b[0;34m)\u001b[0m\u001b[0;34m\u001b[0m\u001b[0;34m\u001b[0m\u001b[0m\n\u001b[0m\u001b[1;32m      3\u001b[0m \u001b[0mShowSinPlot\u001b[0m\u001b[0;34m(\u001b[0m\u001b[0;34m)\u001b[0m\u001b[0;34m\u001b[0m\u001b[0;34m\u001b[0m\u001b[0m\n",
            "\u001b[0;32m<ipython-input-116-1f5e242c43bc>\u001b[0m in \u001b[0;36mTraining\u001b[0;34m(epochs)\u001b[0m\n\u001b[1;32m      8\u001b[0m \u001b[0;34m\u001b[0m\u001b[0m\n\u001b[1;32m      9\u001b[0m     \u001b[0;32mfor\u001b[0m \u001b[0mi\u001b[0m \u001b[0;32min\u001b[0m \u001b[0mrange\u001b[0m\u001b[0;34m(\u001b[0m\u001b[0miterations\u001b[0m\u001b[0;34m)\u001b[0m\u001b[0;34m:\u001b[0m\u001b[0;34m\u001b[0m\u001b[0;34m\u001b[0m\u001b[0m\n\u001b[0;32m---> 10\u001b[0;31m       \u001b[0mdLoss\u001b[0m\u001b[0;34m,\u001b[0m \u001b[0mgLoss\u001b[0m \u001b[0;34m=\u001b[0m \u001b[0mSinTrainingStep\u001b[0m\u001b[0;34m(\u001b[0m\u001b[0;34m)\u001b[0m\u001b[0;34m\u001b[0m\u001b[0;34m\u001b[0m\u001b[0m\n\u001b[0m\u001b[1;32m     11\u001b[0m \u001b[0;34m\u001b[0m\u001b[0m\n\u001b[1;32m     12\u001b[0m     \u001b[0mdLossA\u001b[0m\u001b[0;34m.\u001b[0m\u001b[0mappend\u001b[0m\u001b[0;34m(\u001b[0m\u001b[0mdLoss\u001b[0m\u001b[0;34m)\u001b[0m\u001b[0;34m\u001b[0m\u001b[0;34m\u001b[0m\u001b[0m\n",
            "\u001b[0;32m/usr/local/lib/python3.7/dist-packages/tensorflow/python/util/traceback_utils.py\u001b[0m in \u001b[0;36merror_handler\u001b[0;34m(*args, **kwargs)\u001b[0m\n\u001b[1;32m    148\u001b[0m     \u001b[0mfiltered_tb\u001b[0m \u001b[0;34m=\u001b[0m \u001b[0;32mNone\u001b[0m\u001b[0;34m\u001b[0m\u001b[0;34m\u001b[0m\u001b[0m\n\u001b[1;32m    149\u001b[0m     \u001b[0;32mtry\u001b[0m\u001b[0;34m:\u001b[0m\u001b[0;34m\u001b[0m\u001b[0;34m\u001b[0m\u001b[0m\n\u001b[0;32m--> 150\u001b[0;31m       \u001b[0;32mreturn\u001b[0m \u001b[0mfn\u001b[0m\u001b[0;34m(\u001b[0m\u001b[0;34m*\u001b[0m\u001b[0margs\u001b[0m\u001b[0;34m,\u001b[0m \u001b[0;34m**\u001b[0m\u001b[0mkwargs\u001b[0m\u001b[0;34m)\u001b[0m\u001b[0;34m\u001b[0m\u001b[0;34m\u001b[0m\u001b[0m\n\u001b[0m\u001b[1;32m    151\u001b[0m     \u001b[0;32mexcept\u001b[0m \u001b[0mException\u001b[0m \u001b[0;32mas\u001b[0m \u001b[0me\u001b[0m\u001b[0;34m:\u001b[0m\u001b[0;34m\u001b[0m\u001b[0;34m\u001b[0m\u001b[0m\n\u001b[1;32m    152\u001b[0m       \u001b[0mfiltered_tb\u001b[0m \u001b[0;34m=\u001b[0m \u001b[0m_process_traceback_frames\u001b[0m\u001b[0;34m(\u001b[0m\u001b[0me\u001b[0m\u001b[0;34m.\u001b[0m\u001b[0m__traceback__\u001b[0m\u001b[0;34m)\u001b[0m\u001b[0;34m\u001b[0m\u001b[0;34m\u001b[0m\u001b[0m\n",
            "\u001b[0;32m/usr/local/lib/python3.7/dist-packages/tensorflow/python/eager/def_function.py\u001b[0m in \u001b[0;36m__call__\u001b[0;34m(self, *args, **kwds)\u001b[0m\n\u001b[1;32m    913\u001b[0m \u001b[0;34m\u001b[0m\u001b[0m\n\u001b[1;32m    914\u001b[0m       \u001b[0;32mwith\u001b[0m \u001b[0mOptionalXlaContext\u001b[0m\u001b[0;34m(\u001b[0m\u001b[0mself\u001b[0m\u001b[0;34m.\u001b[0m\u001b[0m_jit_compile\u001b[0m\u001b[0;34m)\u001b[0m\u001b[0;34m:\u001b[0m\u001b[0;34m\u001b[0m\u001b[0;34m\u001b[0m\u001b[0m\n\u001b[0;32m--> 915\u001b[0;31m         \u001b[0mresult\u001b[0m \u001b[0;34m=\u001b[0m \u001b[0mself\u001b[0m\u001b[0;34m.\u001b[0m\u001b[0m_call\u001b[0m\u001b[0;34m(\u001b[0m\u001b[0;34m*\u001b[0m\u001b[0margs\u001b[0m\u001b[0;34m,\u001b[0m \u001b[0;34m**\u001b[0m\u001b[0mkwds\u001b[0m\u001b[0;34m)\u001b[0m\u001b[0;34m\u001b[0m\u001b[0;34m\u001b[0m\u001b[0m\n\u001b[0m\u001b[1;32m    916\u001b[0m \u001b[0;34m\u001b[0m\u001b[0m\n\u001b[1;32m    917\u001b[0m       \u001b[0mnew_tracing_count\u001b[0m \u001b[0;34m=\u001b[0m \u001b[0mself\u001b[0m\u001b[0;34m.\u001b[0m\u001b[0mexperimental_get_tracing_count\u001b[0m\u001b[0;34m(\u001b[0m\u001b[0;34m)\u001b[0m\u001b[0;34m\u001b[0m\u001b[0;34m\u001b[0m\u001b[0m\n",
            "\u001b[0;32m/usr/local/lib/python3.7/dist-packages/tensorflow/python/eager/def_function.py\u001b[0m in \u001b[0;36m_call\u001b[0;34m(self, *args, **kwds)\u001b[0m\n\u001b[1;32m    945\u001b[0m       \u001b[0;31m# In this case we have created variables on the first call, so we run the\u001b[0m\u001b[0;34m\u001b[0m\u001b[0;34m\u001b[0m\u001b[0;34m\u001b[0m\u001b[0m\n\u001b[1;32m    946\u001b[0m       \u001b[0;31m# defunned version which is guaranteed to never create variables.\u001b[0m\u001b[0;34m\u001b[0m\u001b[0;34m\u001b[0m\u001b[0;34m\u001b[0m\u001b[0m\n\u001b[0;32m--> 947\u001b[0;31m       \u001b[0;32mreturn\u001b[0m \u001b[0mself\u001b[0m\u001b[0;34m.\u001b[0m\u001b[0m_stateless_fn\u001b[0m\u001b[0;34m(\u001b[0m\u001b[0;34m*\u001b[0m\u001b[0margs\u001b[0m\u001b[0;34m,\u001b[0m \u001b[0;34m**\u001b[0m\u001b[0mkwds\u001b[0m\u001b[0;34m)\u001b[0m  \u001b[0;31m# pylint: disable=not-callable\u001b[0m\u001b[0;34m\u001b[0m\u001b[0;34m\u001b[0m\u001b[0m\n\u001b[0m\u001b[1;32m    948\u001b[0m     \u001b[0;32melif\u001b[0m \u001b[0mself\u001b[0m\u001b[0;34m.\u001b[0m\u001b[0m_stateful_fn\u001b[0m \u001b[0;32mis\u001b[0m \u001b[0;32mnot\u001b[0m \u001b[0;32mNone\u001b[0m\u001b[0;34m:\u001b[0m\u001b[0;34m\u001b[0m\u001b[0;34m\u001b[0m\u001b[0m\n\u001b[1;32m    949\u001b[0m       \u001b[0;31m# Release the lock early so that multiple threads can perform the call\u001b[0m\u001b[0;34m\u001b[0m\u001b[0;34m\u001b[0m\u001b[0;34m\u001b[0m\u001b[0m\n",
            "\u001b[0;32m/usr/local/lib/python3.7/dist-packages/tensorflow/python/eager/function.py\u001b[0m in \u001b[0;36m__call__\u001b[0;34m(self, *args, **kwargs)\u001b[0m\n\u001b[1;32m   2955\u001b[0m        filtered_flat_args) = self._maybe_define_function(args, kwargs)\n\u001b[1;32m   2956\u001b[0m     return graph_function._call_flat(\n\u001b[0;32m-> 2957\u001b[0;31m         filtered_flat_args, captured_inputs=graph_function.captured_inputs)  # pylint: disable=protected-access\n\u001b[0m\u001b[1;32m   2958\u001b[0m \u001b[0;34m\u001b[0m\u001b[0m\n\u001b[1;32m   2959\u001b[0m   \u001b[0;34m@\u001b[0m\u001b[0mproperty\u001b[0m\u001b[0;34m\u001b[0m\u001b[0;34m\u001b[0m\u001b[0m\n",
            "\u001b[0;32m/usr/local/lib/python3.7/dist-packages/tensorflow/python/eager/function.py\u001b[0m in \u001b[0;36m_call_flat\u001b[0;34m(self, args, captured_inputs, cancellation_manager)\u001b[0m\n\u001b[1;32m   1852\u001b[0m       \u001b[0;31m# No tape is watching; skip to running the function.\u001b[0m\u001b[0;34m\u001b[0m\u001b[0;34m\u001b[0m\u001b[0;34m\u001b[0m\u001b[0m\n\u001b[1;32m   1853\u001b[0m       return self._build_call_outputs(self._inference_function.call(\n\u001b[0;32m-> 1854\u001b[0;31m           ctx, args, cancellation_manager=cancellation_manager))\n\u001b[0m\u001b[1;32m   1855\u001b[0m     forward_backward = self._select_forward_and_backward_functions(\n\u001b[1;32m   1856\u001b[0m         \u001b[0margs\u001b[0m\u001b[0;34m,\u001b[0m\u001b[0;34m\u001b[0m\u001b[0;34m\u001b[0m\u001b[0m\n",
            "\u001b[0;32m/usr/local/lib/python3.7/dist-packages/tensorflow/python/eager/function.py\u001b[0m in \u001b[0;36mcall\u001b[0;34m(self, ctx, args, cancellation_manager)\u001b[0m\n\u001b[1;32m    502\u001b[0m               \u001b[0minputs\u001b[0m\u001b[0;34m=\u001b[0m\u001b[0margs\u001b[0m\u001b[0;34m,\u001b[0m\u001b[0;34m\u001b[0m\u001b[0;34m\u001b[0m\u001b[0m\n\u001b[1;32m    503\u001b[0m               \u001b[0mattrs\u001b[0m\u001b[0;34m=\u001b[0m\u001b[0mattrs\u001b[0m\u001b[0;34m,\u001b[0m\u001b[0;34m\u001b[0m\u001b[0;34m\u001b[0m\u001b[0m\n\u001b[0;32m--> 504\u001b[0;31m               ctx=ctx)\n\u001b[0m\u001b[1;32m    505\u001b[0m         \u001b[0;32melse\u001b[0m\u001b[0;34m:\u001b[0m\u001b[0;34m\u001b[0m\u001b[0;34m\u001b[0m\u001b[0m\n\u001b[1;32m    506\u001b[0m           outputs = execute.execute_with_cancellation(\n",
            "\u001b[0;32m/usr/local/lib/python3.7/dist-packages/tensorflow/python/eager/execute.py\u001b[0m in \u001b[0;36mquick_execute\u001b[0;34m(op_name, num_outputs, inputs, attrs, ctx, name)\u001b[0m\n\u001b[1;32m     53\u001b[0m     \u001b[0mctx\u001b[0m\u001b[0;34m.\u001b[0m\u001b[0mensure_initialized\u001b[0m\u001b[0;34m(\u001b[0m\u001b[0;34m)\u001b[0m\u001b[0;34m\u001b[0m\u001b[0;34m\u001b[0m\u001b[0m\n\u001b[1;32m     54\u001b[0m     tensors = pywrap_tfe.TFE_Py_Execute(ctx._handle, device_name, op_name,\n\u001b[0;32m---> 55\u001b[0;31m                                         inputs, attrs, num_outputs)\n\u001b[0m\u001b[1;32m     56\u001b[0m   \u001b[0;32mexcept\u001b[0m \u001b[0mcore\u001b[0m\u001b[0;34m.\u001b[0m\u001b[0m_NotOkStatusException\u001b[0m \u001b[0;32mas\u001b[0m \u001b[0me\u001b[0m\u001b[0;34m:\u001b[0m\u001b[0;34m\u001b[0m\u001b[0;34m\u001b[0m\u001b[0m\n\u001b[1;32m     57\u001b[0m     \u001b[0;32mif\u001b[0m \u001b[0mname\u001b[0m \u001b[0;32mis\u001b[0m \u001b[0;32mnot\u001b[0m \u001b[0;32mNone\u001b[0m\u001b[0;34m:\u001b[0m\u001b[0;34m\u001b[0m\u001b[0;34m\u001b[0m\u001b[0m\n",
            "\u001b[0;31mKeyboardInterrupt\u001b[0m: "
          ]
        }
      ]
    },
    {
      "cell_type": "markdown",
      "source": [
        "### Visualise"
      ],
      "metadata": {
        "id": "VOvSd9kSA7CA"
      }
    },
    {
      "cell_type": "code",
      "source": [
        "  nums = np.arange(0, 20, 0.25)\n",
        "  xD = []\n",
        "  yD = []\n",
        "  for i in range(nums.shape[0]):\n",
        "    xD.append(S(nums[i]))\n",
        "    yD.append(C(nums[i]))\n",
        "  \n",
        "  dat = np.stack((xD, yD), axis=1)\n",
        "  \n",
        "  plt.scatter(nums, sinGenerator.predict([dat]), c=\"red\")\n",
        "  plt.show()"
      ],
      "metadata": {
        "id": "3occDjH3A6G5",
        "outputId": "bce0df68-55d2-4d50-b724-eac475452a63",
        "colab": {
          "base_uri": "https://localhost:8080/",
          "height": 269
        }
      },
      "execution_count": null,
      "outputs": [
        {
          "output_type": "display_data",
          "data": {
            "text/plain": [
              "<Figure size 432x288 with 1 Axes>"
            ],
            "image/png": "[encoded data removed]"
          },
          "metadata": {
            "needs_background": "light"
          }
        }
      ]
    },
    {
      "cell_type": "markdown",
      "source": [
        "#File Read"
      ],
      "metadata": {
        "id": "41qrnpkqOmSJ"
      }
    },
    {
      "cell_type": "code",
      "source": [
        "fr = AnimFileReader(\"SHO_EXORCISMWALK_1_UNCLEAN.txt\")"
      ],
      "metadata": {
        "id": "TCeJzuqAoLB1"
      },
      "execution_count": null,
      "outputs": []
    },
    {
      "cell_type": "code",
      "source": [
        "data = fr.animData\n",
        "print(fr.animData.shape)\n",
        "print(data.shape)\n",
        "data = np.reshape(data, [221, 168])\n",
        "print(fr.animData.shape)\n",
        "print(data.shape)"
      ],
      "metadata": {
        "id": "cMdludDDT3Yr",
        "outputId": "d886519e-390b-43dc-8c91-64a055bc29c0",
        "colab": {
          "base_uri": "https://localhost:8080/"
        }
      },
      "execution_count": null,
      "outputs": [
        {
          "output_type": "error",
          "ename": "NameError",
          "evalue": "ignored",
          "traceback": [
            "\u001b[0;31m---------------------------------------------------------------------------\u001b[0m",
            "\u001b[0;31mNameError\u001b[0m                                 Traceback (most recent call last)",
            "\u001b[0;32m<ipython-input-39-8831f7404ccd>\u001b[0m in \u001b[0;36m<module>\u001b[0;34m()\u001b[0m\n\u001b[0;32m----> 1\u001b[0;31m \u001b[0mdata\u001b[0m \u001b[0;34m=\u001b[0m \u001b[0mfr\u001b[0m\u001b[0;34m.\u001b[0m\u001b[0manimData\u001b[0m\u001b[0;34m\u001b[0m\u001b[0;34m\u001b[0m\u001b[0m\n\u001b[0m\u001b[1;32m      2\u001b[0m \u001b[0mprint\u001b[0m\u001b[0;34m(\u001b[0m\u001b[0mfr\u001b[0m\u001b[0;34m.\u001b[0m\u001b[0manimData\u001b[0m\u001b[0;34m.\u001b[0m\u001b[0mshape\u001b[0m\u001b[0;34m)\u001b[0m\u001b[0;34m\u001b[0m\u001b[0;34m\u001b[0m\u001b[0m\n\u001b[1;32m      3\u001b[0m \u001b[0mprint\u001b[0m\u001b[0;34m(\u001b[0m\u001b[0mdata\u001b[0m\u001b[0;34m.\u001b[0m\u001b[0mshape\u001b[0m\u001b[0;34m)\u001b[0m\u001b[0;34m\u001b[0m\u001b[0;34m\u001b[0m\u001b[0m\n\u001b[1;32m      4\u001b[0m \u001b[0mdata\u001b[0m \u001b[0;34m=\u001b[0m \u001b[0mnp\u001b[0m\u001b[0;34m.\u001b[0m\u001b[0mreshape\u001b[0m\u001b[0;34m(\u001b[0m\u001b[0mdata\u001b[0m\u001b[0;34m,\u001b[0m \u001b[0;34m[\u001b[0m\u001b[0;36m221\u001b[0m\u001b[0;34m,\u001b[0m \u001b[0;36m168\u001b[0m\u001b[0;34m]\u001b[0m\u001b[0;34m)\u001b[0m\u001b[0;34m\u001b[0m\u001b[0;34m\u001b[0m\u001b[0m\n\u001b[1;32m      5\u001b[0m \u001b[0mprint\u001b[0m\u001b[0;34m(\u001b[0m\u001b[0mfr\u001b[0m\u001b[0;34m.\u001b[0m\u001b[0manimData\u001b[0m\u001b[0;34m.\u001b[0m\u001b[0mshape\u001b[0m\u001b[0;34m)\u001b[0m\u001b[0;34m\u001b[0m\u001b[0;34m\u001b[0m\u001b[0m\n",
            "\u001b[0;31mNameError\u001b[0m: name 'fr' is not defined"
          ]
        }
      ]
    }
  ]
}