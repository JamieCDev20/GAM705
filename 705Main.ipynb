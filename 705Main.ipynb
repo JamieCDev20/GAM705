{
  "nbformat": 4,
  "nbformat_minor": 0,
  "metadata": {
    "colab": {
      "name": "705Main.ipynb",
      "provenance": [],
      "collapsed_sections": [],
      "authorship_tag": "ABX9TyNj9kVSP3TQhpqIhsfuuypy",
      "include_colab_link": true
    },
    "kernelspec": {
      "name": "python3",
      "display_name": "Python 3"
    },
    "language_info": {
      "name": "python"
    }
  },
  "cells": [
    {
      "cell_type": "markdown",
      "metadata": {
        "id": "view-in-github",
        "colab_type": "text"
      },
      "source": [
        "<a href=\"https://colab.research.google.com/github/JamieCDev20/GAM705/blob/main/705Main.ipynb\" target=\"_parent\"><img src=\"https://colab.research.google.com/assets/colab-badge.svg\" alt=\"Open In Colab\"/></a>"
      ]
    },
    {
      "cell_type": "markdown",
      "source": [
        "##Setup"
      ],
      "metadata": {
        "id": "0sile4crkxtB"
      }
    },
    {
      "cell_type": "markdown",
      "source": [
        "Imports"
      ],
      "metadata": {
        "id": "CgROgKUq4KBl"
      }
    },
    {
      "cell_type": "code",
      "source": [
        "!pip install pyquaternion\n",
        "!pip install PyDrive"
      ],
      "metadata": {
        "id": "xMlNt9EYOaXs"
      },
      "execution_count": null,
      "outputs": []
    },
    {
      "cell_type": "code",
      "source": [
        "import numpy as np\n",
        "from pyquaternion import Quaternion\n",
        "from tensorflow.keras.models import Sequential\n",
        "from tensorflow.keras.layers import Input, Dense\n",
        "from pydrive.auth import GoogleAuth\n",
        "from pydrive.drive import GoogleDrive\n",
        "from google.colab import auth\n",
        "from oauth2client.client import GoogleCredentials\n",
        "from random import random as r"
      ],
      "metadata": {
        "id": "8EzXJwOi4Jqu"
      },
      "execution_count": 28,
      "outputs": []
    },
    {
      "cell_type": "code",
      "source": [
        "auth.authenticate_user()\n",
        "gauth = GoogleAuth()\n",
        "gauth.credentials = GoogleCredentials.get_application_default()\n",
        "drive = GoogleDrive(gauth)"
      ],
      "metadata": {
        "id": "3MkbBYWxOq0d"
      },
      "execution_count": 17,
      "outputs": []
    },
    {
      "cell_type": "markdown",
      "source": [
        "File Reader"
      ],
      "metadata": {
        "id": "89gQzpdQkJ8j"
      }
    },
    {
      "cell_type": "code",
      "execution_count": null,
      "metadata": {
        "id": "_pKPS4kSfUh9"
      },
      "outputs": [],
      "source": [
        "class AnimFileReader():\n",
        "  ## \"#\" breaks between nodes | \":\" breaks between values\n",
        "\n",
        "  def __init__(self, _path):\n",
        "    self.path = _path\n",
        "    self.animData = np.array(float)\n",
        "    self.__ReadAnim__(self.path)\n",
        "\n",
        "  def __ReadAnim__(self, path):\n",
        "    file = open(path, 'r')\n",
        "    overallData = file.read()\n",
        "    overallData = overallData.split(\"SS\")\n",
        "    \n",
        "    del overallData[0]\n",
        "\n",
        "    jointCount = len(overallData)\n",
        "    frameCount = len(overallData[0].split('#')[0].split(':')) - 1\n",
        "    \n",
        "    dataLayer = np.array(float)\n",
        "\n",
        "    trainingData = np.array(float)\n",
        "\n",
        "    for j in range(0, frameCount):\n",
        "      for i in range(0, jointCount):\n",
        "\n",
        "        rots = overallData[i].split('#')[0].split(':')\n",
        "        poss = overallData[i].split('#')[1].split(':')\n",
        "\n",
        "        del rots[0]\n",
        "        del poss[0]\n",
        "\n",
        "        #print(len(rots))\n",
        "        #print(rots[0], rots[1], rots[2], rots[3])\n",
        "        #print(dataLayer.shape)\n",
        "        temp = rots[j].split(',')\n",
        "        dataLayer = np.append(dataLayer, temp)\n",
        "        \n",
        "        temp = poss[j].split(',')\n",
        "        dataLayer = np.append(dataLayer, temp)\n",
        "        #print(dataLayer.shape)\n",
        "      dataLayer = np.delete(dataLayer, 0)\n",
        "      trainingData = np.append(trainingData, dataLayer);\n",
        "      dataLayer = np.array(float)\n",
        "      print(\"Completed: \", j + 1)\n",
        "\n",
        "    print(\"Total its: \", (i + 1) * (j + 1))\n",
        "    \n",
        "    trainingData = np.delete(trainingData, 0)\n",
        "    \n",
        "    print(trainingData.shape)\n",
        "    print(trainingData[0])\n",
        "    \n",
        "    self.animData = trainingData;\n",
        "   "
      ]
    },
    {
      "cell_type": "markdown",
      "source": [
        "#File Read"
      ],
      "metadata": {
        "id": "41qrnpkqOmSJ"
      }
    },
    {
      "cell_type": "code",
      "source": [
        "fr = AnimFileReader(\"SHO_EXORCISMWALK_1_UNCLEAN.txt\")"
      ],
      "metadata": {
        "id": "TCeJzuqAoLB1"
      },
      "execution_count": null,
      "outputs": []
    },
    {
      "cell_type": "code",
      "source": [
        "data = fr.animData\n",
        "print(fr.animData.shape)\n",
        "print(data.shape)\n",
        "data = np.reshape(data, [221, 168])\n",
        "print(fr.animData.shape)\n",
        "print(data.shape)"
      ],
      "metadata": {
        "id": "cMdludDDT3Yr",
        "outputId": "aa925bc0-abf9-4909-e94c-ae24ecefcad0",
        "colab": {
          "base_uri": "https://localhost:8080/"
        }
      },
      "execution_count": null,
      "outputs": [
        {
          "output_type": "stream",
          "name": "stdout",
          "text": [
            "(37128,)\n",
            "(37128,)\n",
            "(37128,)\n",
            "(221, 168)\n"
          ]
        }
      ]
    },
    {
      "cell_type": "code",
      "source": [
        "network = Sequential(\n",
        "    Input()\n",
        ")"
      ],
      "metadata": {
        "id": "lGbrt3MgNHds"
      },
      "execution_count": null,
      "outputs": []
    },
    {
      "cell_type": "markdown",
      "source": [
        "Testing"
      ],
      "metadata": {
        "id": "cIHrV1o35KSk"
      }
    },
    {
      "cell_type": "code",
      "source": [
        "a = np.array([1, 2, 3, 4, 5], float)\n",
        "b = np.array([6, 6, 6, 6, 6], float)\n",
        "c = b-a\n",
        "b = np.append(b, c);\n",
        "\n",
        "print(b)\n"
      ],
      "metadata": {
        "id": "fhZI5Kub5J9c",
        "outputId": "3a2c6bec-4310-4ea3-d24e-133ece7b7024",
        "colab": {
          "base_uri": "https://localhost:8080/"
        }
      },
      "execution_count": null,
      "outputs": [
        {
          "output_type": "stream",
          "name": "stdout",
          "text": [
            "[6. 6. 6. 6. 6. 5. 4. 3. 2. 1.]\n"
          ]
        }
      ]
    },
    {
      "cell_type": "markdown",
      "source": [
        "#GAN Training"
      ],
      "metadata": {
        "id": "HwXCl4LPQK0r"
      }
    },
    {
      "cell_type": "markdown",
      "source": [
        "##Networks"
      ],
      "metadata": {
        "id": "rkK3pOeuR8Gs"
      }
    },
    {
      "cell_type": "markdown",
      "source": [
        "Discriminator"
      ],
      "metadata": {
        "id": "ZPHdgVl2RhEW"
      }
    },
    {
      "cell_type": "code",
      "source": [
        "discriminator = Sequential([\n",
        "    Input(shape=(1)),\n",
        "    Dense(5, activation='relu'),\n",
        "    Dense(1)\n",
        "])\n",
        "discriminator.compile(optimizer=\"Adam\", metrics=[\"Accuracy\"])"
      ],
      "metadata": {
        "id": "JEXLQLiSQM2Y"
      },
      "execution_count": 23,
      "outputs": []
    },
    {
      "cell_type": "markdown",
      "source": [
        "Generator"
      ],
      "metadata": {
        "id": "tw0Ye_lFRjm3"
      }
    },
    {
      "cell_type": "code",
      "source": [
        "generator = Sequential([\n",
        "      Input(shape=(1)),\n",
        "      Dense(5, activation='relu'),\n",
        "      Dense(1)\n",
        "])\n",
        "generator.compile(optimizer=\"Adam\", metrics=[\"Accuracy\"])"
      ],
      "metadata": {
        "id": "dNT2ka7dRlE2"
      },
      "execution_count": 24,
      "outputs": []
    },
    {
      "cell_type": "markdown",
      "source": [
        "##Training Structure"
      ],
      "metadata": {
        "id": "Z_HgrFkvR3sP"
      }
    },
    {
      "cell_type": "markdown",
      "source": [
        "Training Vars"
      ],
      "metadata": {
        "id": "RwdpGyzYTt2A"
      }
    },
    {
      "cell_type": "code",
      "source": [
        "batchSize = 64\n",
        "iterations = 100000\n",
        "fakeDistribution = 0.5"
      ],
      "metadata": {
        "id": "bZC3hJHVR6J5"
      },
      "execution_count": 10,
      "outputs": []
    },
    {
      "cell_type": "code",
      "source": [
        "def Func(x):\n",
        "  return [[0.08 * (x[0]-25)**2]]"
      ],
      "metadata": {
        "id": "9JcEOpefV5gR"
      },
      "execution_count": 45,
      "outputs": []
    },
    {
      "cell_type": "code",
      "source": [
        "def GenerateBatch():\n",
        "  batchDistribution = np.random.rand(batchSize)\n",
        "  batchDistribution = [(0, 1)[int(x > fakeDistribution)] for x in batchDistribution]\n",
        "  xTrain = [[generator.predict, Func][x] for x in batchDistribution]\n",
        "  return xTrain, batchDistribution\n",
        "\n",
        "a = [generator.predict, Func][0]\n",
        "print(a([12]))"
      ],
      "metadata": {
        "id": "iwwmKLtmV-SD",
        "outputId": "3725c755-52a5-4247-ad52-4be86019d869",
        "colab": {
          "base_uri": "https://localhost:8080/"
        }
      },
      "execution_count": 47,
      "outputs": [
        {
          "output_type": "stream",
          "name": "stdout",
          "text": [
            "[[-13.084098]]\n"
          ]
        }
      ]
    },
    {
      "cell_type": "markdown",
      "source": [
        "Training"
      ],
      "metadata": {
        "id": "tKvU6iKUX-ZB"
      }
    },
    {
      "cell_type": "code",
      "source": [
        "print(GenerateBatch())\n",
        "#Do the training loop here"
      ],
      "metadata": {
        "id": "bBo7oe3gYBuX",
        "outputId": "4128662c-f07c-4216-874d-cd13137db07d",
        "colab": {
          "base_uri": "https://localhost:8080/"
        }
      },
      "execution_count": 34,
      "outputs": [
        {
          "output_type": "stream",
          "name": "stdout",
          "text": [
            "([<bound method Model.predict of <keras.engine.sequential.Sequential object at 0x7f99c88fc1d0>>, <bound method Model.predict of <keras.engine.sequential.Sequential object at 0x7f99c88fc1d0>>, <function Func at 0x7f99c88e98c0>, <function Func at 0x7f99c88e98c0>, <bound method Model.predict of <keras.engine.sequential.Sequential object at 0x7f99c88fc1d0>>, <function Func at 0x7f99c88e98c0>, <bound method Model.predict of <keras.engine.sequential.Sequential object at 0x7f99c88fc1d0>>, <bound method Model.predict of <keras.engine.sequential.Sequential object at 0x7f99c88fc1d0>>, <bound method Model.predict of <keras.engine.sequential.Sequential object at 0x7f99c88fc1d0>>, <function Func at 0x7f99c88e98c0>, <bound method Model.predict of <keras.engine.sequential.Sequential object at 0x7f99c88fc1d0>>, <function Func at 0x7f99c88e98c0>, <bound method Model.predict of <keras.engine.sequential.Sequential object at 0x7f99c88fc1d0>>, <function Func at 0x7f99c88e98c0>, <bound method Model.predict of <keras.engine.sequential.Sequential object at 0x7f99c88fc1d0>>, <bound method Model.predict of <keras.engine.sequential.Sequential object at 0x7f99c88fc1d0>>, <function Func at 0x7f99c88e98c0>, <bound method Model.predict of <keras.engine.sequential.Sequential object at 0x7f99c88fc1d0>>, <function Func at 0x7f99c88e98c0>, <function Func at 0x7f99c88e98c0>, <function Func at 0x7f99c88e98c0>, <function Func at 0x7f99c88e98c0>, <bound method Model.predict of <keras.engine.sequential.Sequential object at 0x7f99c88fc1d0>>, <function Func at 0x7f99c88e98c0>, <function Func at 0x7f99c88e98c0>, <function Func at 0x7f99c88e98c0>, <bound method Model.predict of <keras.engine.sequential.Sequential object at 0x7f99c88fc1d0>>, <bound method Model.predict of <keras.engine.sequential.Sequential object at 0x7f99c88fc1d0>>, <function Func at 0x7f99c88e98c0>, <function Func at 0x7f99c88e98c0>, <function Func at 0x7f99c88e98c0>, <function Func at 0x7f99c88e98c0>, <bound method Model.predict of <keras.engine.sequential.Sequential object at 0x7f99c88fc1d0>>, <bound method Model.predict of <keras.engine.sequential.Sequential object at 0x7f99c88fc1d0>>, <bound method Model.predict of <keras.engine.sequential.Sequential object at 0x7f99c88fc1d0>>, <bound method Model.predict of <keras.engine.sequential.Sequential object at 0x7f99c88fc1d0>>, <function Func at 0x7f99c88e98c0>, <function Func at 0x7f99c88e98c0>, <function Func at 0x7f99c88e98c0>, <bound method Model.predict of <keras.engine.sequential.Sequential object at 0x7f99c88fc1d0>>, <function Func at 0x7f99c88e98c0>, <function Func at 0x7f99c88e98c0>, <function Func at 0x7f99c88e98c0>, <bound method Model.predict of <keras.engine.sequential.Sequential object at 0x7f99c88fc1d0>>, <function Func at 0x7f99c88e98c0>, <bound method Model.predict of <keras.engine.sequential.Sequential object at 0x7f99c88fc1d0>>, <function Func at 0x7f99c88e98c0>, <function Func at 0x7f99c88e98c0>, <bound method Model.predict of <keras.engine.sequential.Sequential object at 0x7f99c88fc1d0>>, <bound method Model.predict of <keras.engine.sequential.Sequential object at 0x7f99c88fc1d0>>, <bound method Model.predict of <keras.engine.sequential.Sequential object at 0x7f99c88fc1d0>>, <bound method Model.predict of <keras.engine.sequential.Sequential object at 0x7f99c88fc1d0>>, <function Func at 0x7f99c88e98c0>, <bound method Model.predict of <keras.engine.sequential.Sequential object at 0x7f99c88fc1d0>>, <bound method Model.predict of <keras.engine.sequential.Sequential object at 0x7f99c88fc1d0>>, <bound method Model.predict of <keras.engine.sequential.Sequential object at 0x7f99c88fc1d0>>, <function Func at 0x7f99c88e98c0>, <bound method Model.predict of <keras.engine.sequential.Sequential object at 0x7f99c88fc1d0>>, <function Func at 0x7f99c88e98c0>, <bound method Model.predict of <keras.engine.sequential.Sequential object at 0x7f99c88fc1d0>>, <function Func at 0x7f99c88e98c0>, <function Func at 0x7f99c88e98c0>, <function Func at 0x7f99c88e98c0>, <function Func at 0x7f99c88e98c0>], [0, 0, 1, 1, 0, 1, 0, 0, 0, 1, 0, 1, 0, 1, 0, 0, 1, 0, 1, 1, 1, 1, 0, 1, 1, 1, 0, 0, 1, 1, 1, 1, 0, 0, 0, 0, 1, 1, 1, 0, 1, 1, 1, 0, 1, 0, 1, 1, 0, 0, 0, 0, 1, 0, 0, 0, 1, 0, 1, 0, 1, 1, 1, 1])\n"
          ]
        }
      ]
    }
  ]
}