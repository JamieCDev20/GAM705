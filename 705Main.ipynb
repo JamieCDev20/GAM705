{
  "nbformat": 4,
  "nbformat_minor": 0,
  "metadata": {
    "colab": {
      "name": "705Main.ipynb",
      "provenance": [],
      "collapsed_sections": [],
      "authorship_tag": "ABX9TyMSGJHR5ZBojENJn5HRrjni",
      "include_colab_link": true
    },
    "kernelspec": {
      "name": "python3",
      "display_name": "Python 3"
    },
    "language_info": {
      "name": "python"
    }
  },
  "cells": [
    {
      "cell_type": "markdown",
      "metadata": {
        "id": "view-in-github",
        "colab_type": "text"
      },
      "source": [
        "<a href=\"https://colab.research.google.com/github/JamieCDev20/GAM705/blob/main/705Main.ipynb\" target=\"_parent\"><img src=\"https://colab.research.google.com/assets/colab-badge.svg\" alt=\"Open In Colab\"/></a>"
      ]
    },
    {
      "cell_type": "markdown",
      "source": [
        "##Setup"
      ],
      "metadata": {
        "id": "0sile4crkxtB"
      }
    },
    {
      "cell_type": "markdown",
      "source": [
        "Imports"
      ],
      "metadata": {
        "id": "CgROgKUq4KBl"
      }
    },
    {
      "cell_type": "code",
      "source": [
        "import numpy as np\n",
        "!pip install pyquaternion\n",
        "from pyquaternion import Quaternion"
      ],
      "metadata": {
        "id": "8EzXJwOi4Jqu",
        "outputId": "ba22aecb-7a81-4d42-e5f9-3297c8d57495",
        "colab": {
          "base_uri": "https://localhost:8080/"
        }
      },
      "execution_count": 1,
      "outputs": [
        {
          "output_type": "stream",
          "name": "stdout",
          "text": [
            "Looking in indexes: https://pypi.org/simple, https://us-python.pkg.dev/colab-wheels/public/simple/\n",
            "Collecting pyquaternion\n",
            "  Downloading pyquaternion-0.9.9-py3-none-any.whl (14 kB)\n",
            "Requirement already satisfied: numpy in /usr/local/lib/python3.7/dist-packages (from pyquaternion) (1.21.6)\n",
            "Installing collected packages: pyquaternion\n",
            "Successfully installed pyquaternion-0.9.9\n"
          ]
        }
      ]
    },
    {
      "cell_type": "markdown",
      "source": [
        "File Reader"
      ],
      "metadata": {
        "id": "89gQzpdQkJ8j"
      }
    },
    {
      "cell_type": "code",
      "execution_count": 175,
      "metadata": {
        "id": "_pKPS4kSfUh9"
      },
      "outputs": [],
      "source": [
        "class AnimFileReader():\n",
        "  ## \"#\" breaks between nodes | \":\" breaks between values\n",
        "\n",
        "  def __init__(self, _path):\n",
        "    self.path = _path\n",
        "    self.animData = np.array(float)\n",
        "    self.__ReadAnim__(self.path)\n",
        "\n",
        "  def __ReadAnim__(self, path):\n",
        "    file = open(path, 'r')\n",
        "    overallData = file.read()\n",
        "    overallData = overallData.split(\"SS\")\n",
        "    \n",
        "    del overallData[0]\n",
        "\n",
        "    jointCount = len(overallData)\n",
        "    frameCount = len(overallData[0].split('#')[0].split(':')) - 1\n",
        "    \n",
        "    dataLayer = np.array(float)\n",
        "\n",
        "    trainingData = np.array(float)\n",
        "\n",
        "    for j in range(0, frameCount):\n",
        "      for i in range(0, jointCount):\n",
        "\n",
        "        rots = overallData[i].split('#')[0].split(':')\n",
        "        poss = overallData[i].split('#')[1].split(':')\n",
        "\n",
        "        del rots[0]\n",
        "        del poss[0]\n",
        "\n",
        "        #print(len(rots))\n",
        "        #print(rots[0], rots[1], rots[2], rots[3])\n",
        "        #print(dataLayer.shape)\n",
        "        temp = rots[j].split(',')\n",
        "        dataLayer = np.append(dataLayer, temp)\n",
        "        \n",
        "        temp = poss[j].split(',')\n",
        "        dataLayer = np.append(dataLayer, temp)\n",
        "        #print(dataLayer.shape)\n",
        "      dataLayer = np.delete(dataLayer, 0)\n",
        "      trainingData = np.append(trainingData, dataLayer);\n",
        "      dataLayer = np.array(float)\n",
        "      print(\"Completed: \", j + 1)\n",
        "\n",
        "    print(\"Total its: \", (i + 1) * (j + 1))\n",
        "    \n",
        "    trainingData = np.delete(trainingData, 0)\n",
        "    \n",
        "    print(trainingData.shape)\n",
        "    print(trainingData[0])\n",
        "    \n",
        "    self.animData = trainingData;\n",
        "   "
      ]
    },
    {
      "cell_type": "code",
      "source": [
        "fr = AnimFileReader(\"SHO_EXORCISMWALK_1_UNCLEAN.txt\")"
      ],
      "metadata": {
        "id": "TCeJzuqAoLB1",
        "outputId": "96fe5461-e537-42fa-ea9b-44dec88acf57",
        "colab": {
          "base_uri": "https://localhost:8080/"
        }
      },
      "execution_count": 176,
      "outputs": [
        {
          "output_type": "stream",
          "name": "stdout",
          "text": [
            "Completed:  1\n",
            "Completed:  2\n",
            "Completed:  3\n",
            "Completed:  4\n",
            "Completed:  5\n",
            "Completed:  6\n",
            "Completed:  7\n",
            "Completed:  8\n",
            "Completed:  9\n",
            "Completed:  10\n",
            "Completed:  11\n",
            "Completed:  12\n",
            "Completed:  13\n",
            "Completed:  14\n",
            "Completed:  15\n",
            "Completed:  16\n",
            "Completed:  17\n",
            "Completed:  18\n",
            "Completed:  19\n",
            "Completed:  20\n",
            "Completed:  21\n",
            "Completed:  22\n",
            "Completed:  23\n",
            "Completed:  24\n",
            "Completed:  25\n",
            "Completed:  26\n",
            "Completed:  27\n",
            "Completed:  28\n",
            "Completed:  29\n",
            "Completed:  30\n",
            "Completed:  31\n",
            "Completed:  32\n",
            "Completed:  33\n",
            "Completed:  34\n",
            "Completed:  35\n",
            "Completed:  36\n",
            "Completed:  37\n",
            "Completed:  38\n",
            "Completed:  39\n",
            "Completed:  40\n",
            "Completed:  41\n",
            "Completed:  42\n",
            "Completed:  43\n",
            "Completed:  44\n",
            "Completed:  45\n",
            "Completed:  46\n",
            "Completed:  47\n",
            "Completed:  48\n",
            "Completed:  49\n",
            "Completed:  50\n",
            "Completed:  51\n",
            "Completed:  52\n",
            "Completed:  53\n",
            "Completed:  54\n",
            "Completed:  55\n",
            "Completed:  56\n",
            "Completed:  57\n",
            "Completed:  58\n",
            "Completed:  59\n",
            "Completed:  60\n",
            "Completed:  61\n",
            "Completed:  62\n",
            "Completed:  63\n",
            "Completed:  64\n",
            "Completed:  65\n",
            "Completed:  66\n",
            "Completed:  67\n",
            "Completed:  68\n",
            "Completed:  69\n",
            "Completed:  70\n",
            "Completed:  71\n",
            "Completed:  72\n",
            "Completed:  73\n",
            "Completed:  74\n",
            "Completed:  75\n",
            "Completed:  76\n",
            "Completed:  77\n",
            "Completed:  78\n",
            "Completed:  79\n",
            "Completed:  80\n",
            "Completed:  81\n",
            "Completed:  82\n",
            "Completed:  83\n",
            "Completed:  84\n",
            "Completed:  85\n",
            "Completed:  86\n",
            "Completed:  87\n",
            "Completed:  88\n",
            "Completed:  89\n",
            "Completed:  90\n",
            "Completed:  91\n",
            "Completed:  92\n",
            "Completed:  93\n",
            "Completed:  94\n",
            "Completed:  95\n",
            "Completed:  96\n",
            "Completed:  97\n",
            "Completed:  98\n",
            "Completed:  99\n",
            "Completed:  100\n",
            "Completed:  101\n",
            "Completed:  102\n",
            "Completed:  103\n",
            "Completed:  104\n",
            "Completed:  105\n",
            "Completed:  106\n",
            "Completed:  107\n",
            "Completed:  108\n",
            "Completed:  109\n",
            "Completed:  110\n",
            "Completed:  111\n",
            "Completed:  112\n",
            "Completed:  113\n",
            "Completed:  114\n",
            "Completed:  115\n",
            "Completed:  116\n",
            "Completed:  117\n",
            "Completed:  118\n",
            "Completed:  119\n",
            "Completed:  120\n",
            "Completed:  121\n",
            "Completed:  122\n",
            "Completed:  123\n",
            "Completed:  124\n",
            "Completed:  125\n",
            "Completed:  126\n",
            "Completed:  127\n",
            "Completed:  128\n",
            "Completed:  129\n",
            "Completed:  130\n",
            "Completed:  131\n",
            "Completed:  132\n",
            "Completed:  133\n",
            "Completed:  134\n",
            "Completed:  135\n",
            "Completed:  136\n",
            "Completed:  137\n",
            "Completed:  138\n",
            "Completed:  139\n",
            "Completed:  140\n",
            "Completed:  141\n",
            "Completed:  142\n",
            "Completed:  143\n",
            "Completed:  144\n",
            "Completed:  145\n",
            "Completed:  146\n",
            "Completed:  147\n",
            "Completed:  148\n",
            "Completed:  149\n",
            "Completed:  150\n",
            "Completed:  151\n",
            "Completed:  152\n",
            "Completed:  153\n",
            "Completed:  154\n",
            "Completed:  155\n",
            "Completed:  156\n",
            "Completed:  157\n",
            "Completed:  158\n",
            "Completed:  159\n",
            "Completed:  160\n",
            "Completed:  161\n",
            "Completed:  162\n",
            "Completed:  163\n",
            "Completed:  164\n",
            "Completed:  165\n",
            "Completed:  166\n",
            "Completed:  167\n",
            "Completed:  168\n",
            "Completed:  169\n",
            "Completed:  170\n",
            "Completed:  171\n",
            "Completed:  172\n",
            "Completed:  173\n",
            "Completed:  174\n",
            "Completed:  175\n",
            "Completed:  176\n",
            "Completed:  177\n",
            "Completed:  178\n",
            "Completed:  179\n",
            "Completed:  180\n",
            "Completed:  181\n",
            "Completed:  182\n",
            "Completed:  183\n",
            "Completed:  184\n",
            "Completed:  185\n",
            "Completed:  186\n",
            "Completed:  187\n",
            "Completed:  188\n",
            "Completed:  189\n",
            "Completed:  190\n",
            "Completed:  191\n",
            "Completed:  192\n",
            "Completed:  193\n",
            "Completed:  194\n",
            "Completed:  195\n",
            "Completed:  196\n",
            "Completed:  197\n",
            "Completed:  198\n",
            "Completed:  199\n",
            "Completed:  200\n",
            "Completed:  201\n",
            "Completed:  202\n",
            "Completed:  203\n",
            "Completed:  204\n",
            "Completed:  205\n",
            "Completed:  206\n",
            "Completed:  207\n",
            "Completed:  208\n",
            "Completed:  209\n",
            "Completed:  210\n",
            "Completed:  211\n",
            "Completed:  212\n",
            "Completed:  213\n",
            "Completed:  214\n",
            "Completed:  215\n",
            "Completed:  216\n",
            "Completed:  217\n",
            "Completed:  218\n",
            "Completed:  219\n",
            "Completed:  220\n",
            "Completed:  221\n",
            "Total its:  5304\n",
            "(37128,)\n",
            "0.000000\n"
          ]
        }
      ]
    },
    {
      "cell_type": "code",
      "source": [
        "data = fr.animData\n",
        "print(fr.animData.shape)\n",
        "print(data.shape)\n",
        "data = np.reshape(data, [221, len(data)/221])\n",
        "print(fr.animData.shape)\n",
        "print(data.shape)"
      ],
      "metadata": {
        "id": "cMdludDDT3Yr",
        "outputId": "d84c40a9-f793-46c6-e868-9d05f5a804a8",
        "colab": {
          "base_uri": "https://localhost:8080/",
          "height": 502
        }
      },
      "execution_count": 133,
      "outputs": [
        {
          "output_type": "stream",
          "name": "stdout",
          "text": [
            "(8205510,)\n",
            "(8205510,)\n"
          ]
        },
        {
          "output_type": "error",
          "ename": "TypeError",
          "evalue": "ignored",
          "traceback": [
            "\u001b[0;31m---------------------------------------------------------------------------\u001b[0m",
            "\u001b[0;31mTypeError\u001b[0m                                 Traceback (most recent call last)",
            "\u001b[0;32m/usr/local/lib/python3.7/dist-packages/numpy/core/fromnumeric.py\u001b[0m in \u001b[0;36m_wrapfunc\u001b[0;34m(obj, method, *args, **kwds)\u001b[0m\n\u001b[1;32m     56\u001b[0m     \u001b[0;32mtry\u001b[0m\u001b[0;34m:\u001b[0m\u001b[0;34m\u001b[0m\u001b[0;34m\u001b[0m\u001b[0m\n\u001b[0;32m---> 57\u001b[0;31m         \u001b[0;32mreturn\u001b[0m \u001b[0mbound\u001b[0m\u001b[0;34m(\u001b[0m\u001b[0;34m*\u001b[0m\u001b[0margs\u001b[0m\u001b[0;34m,\u001b[0m \u001b[0;34m**\u001b[0m\u001b[0mkwds\u001b[0m\u001b[0;34m)\u001b[0m\u001b[0;34m\u001b[0m\u001b[0;34m\u001b[0m\u001b[0m\n\u001b[0m\u001b[1;32m     58\u001b[0m     \u001b[0;32mexcept\u001b[0m \u001b[0mTypeError\u001b[0m\u001b[0;34m:\u001b[0m\u001b[0;34m\u001b[0m\u001b[0;34m\u001b[0m\u001b[0m\n",
            "\u001b[0;31mTypeError\u001b[0m: 'float' object cannot be interpreted as an integer",
            "\nDuring handling of the above exception, another exception occurred:\n",
            "\u001b[0;31mTypeError\u001b[0m                                 Traceback (most recent call last)",
            "\u001b[0;32m<ipython-input-133-aade64413e97>\u001b[0m in \u001b[0;36m<module>\u001b[0;34m()\u001b[0m\n\u001b[1;32m      2\u001b[0m \u001b[0mprint\u001b[0m\u001b[0;34m(\u001b[0m\u001b[0mfr\u001b[0m\u001b[0;34m.\u001b[0m\u001b[0manimData\u001b[0m\u001b[0;34m.\u001b[0m\u001b[0mshape\u001b[0m\u001b[0;34m)\u001b[0m\u001b[0;34m\u001b[0m\u001b[0;34m\u001b[0m\u001b[0m\n\u001b[1;32m      3\u001b[0m \u001b[0mprint\u001b[0m\u001b[0;34m(\u001b[0m\u001b[0mdata\u001b[0m\u001b[0;34m.\u001b[0m\u001b[0mshape\u001b[0m\u001b[0;34m)\u001b[0m\u001b[0;34m\u001b[0m\u001b[0;34m\u001b[0m\u001b[0m\n\u001b[0;32m----> 4\u001b[0;31m \u001b[0mdata\u001b[0m \u001b[0;34m=\u001b[0m \u001b[0mnp\u001b[0m\u001b[0;34m.\u001b[0m\u001b[0mreshape\u001b[0m\u001b[0;34m(\u001b[0m\u001b[0mdata\u001b[0m\u001b[0;34m,\u001b[0m \u001b[0;34m[\u001b[0m\u001b[0;36m221\u001b[0m\u001b[0;34m,\u001b[0m \u001b[0mlen\u001b[0m\u001b[0;34m(\u001b[0m\u001b[0mdata\u001b[0m\u001b[0;34m)\u001b[0m\u001b[0;34m/\u001b[0m\u001b[0;36m221\u001b[0m\u001b[0;34m]\u001b[0m\u001b[0;34m)\u001b[0m\u001b[0;34m\u001b[0m\u001b[0;34m\u001b[0m\u001b[0m\n\u001b[0m\u001b[1;32m      5\u001b[0m \u001b[0mprint\u001b[0m\u001b[0;34m(\u001b[0m\u001b[0mfr\u001b[0m\u001b[0;34m.\u001b[0m\u001b[0manimData\u001b[0m\u001b[0;34m.\u001b[0m\u001b[0mshape\u001b[0m\u001b[0;34m)\u001b[0m\u001b[0;34m\u001b[0m\u001b[0;34m\u001b[0m\u001b[0m\n\u001b[1;32m      6\u001b[0m \u001b[0mprint\u001b[0m\u001b[0;34m(\u001b[0m\u001b[0mdata\u001b[0m\u001b[0;34m.\u001b[0m\u001b[0mshape\u001b[0m\u001b[0;34m)\u001b[0m\u001b[0;34m\u001b[0m\u001b[0;34m\u001b[0m\u001b[0m\n",
            "\u001b[0;32m<__array_function__ internals>\u001b[0m in \u001b[0;36mreshape\u001b[0;34m(*args, **kwargs)\u001b[0m\n",
            "\u001b[0;32m/usr/local/lib/python3.7/dist-packages/numpy/core/fromnumeric.py\u001b[0m in \u001b[0;36mreshape\u001b[0;34m(a, newshape, order)\u001b[0m\n\u001b[1;32m    296\u001b[0m            [5, 6]])\n\u001b[1;32m    297\u001b[0m     \"\"\"\n\u001b[0;32m--> 298\u001b[0;31m     \u001b[0;32mreturn\u001b[0m \u001b[0m_wrapfunc\u001b[0m\u001b[0;34m(\u001b[0m\u001b[0ma\u001b[0m\u001b[0;34m,\u001b[0m \u001b[0;34m'reshape'\u001b[0m\u001b[0;34m,\u001b[0m \u001b[0mnewshape\u001b[0m\u001b[0;34m,\u001b[0m \u001b[0morder\u001b[0m\u001b[0;34m=\u001b[0m\u001b[0morder\u001b[0m\u001b[0;34m)\u001b[0m\u001b[0;34m\u001b[0m\u001b[0;34m\u001b[0m\u001b[0m\n\u001b[0m\u001b[1;32m    299\u001b[0m \u001b[0;34m\u001b[0m\u001b[0m\n\u001b[1;32m    300\u001b[0m \u001b[0;34m\u001b[0m\u001b[0m\n",
            "\u001b[0;32m/usr/local/lib/python3.7/dist-packages/numpy/core/fromnumeric.py\u001b[0m in \u001b[0;36m_wrapfunc\u001b[0;34m(obj, method, *args, **kwds)\u001b[0m\n\u001b[1;32m     64\u001b[0m         \u001b[0;31m# Call _wrapit from within the except clause to ensure a potential\u001b[0m\u001b[0;34m\u001b[0m\u001b[0;34m\u001b[0m\u001b[0;34m\u001b[0m\u001b[0m\n\u001b[1;32m     65\u001b[0m         \u001b[0;31m# exception has a traceback chain.\u001b[0m\u001b[0;34m\u001b[0m\u001b[0;34m\u001b[0m\u001b[0;34m\u001b[0m\u001b[0m\n\u001b[0;32m---> 66\u001b[0;31m         \u001b[0;32mreturn\u001b[0m \u001b[0m_wrapit\u001b[0m\u001b[0;34m(\u001b[0m\u001b[0mobj\u001b[0m\u001b[0;34m,\u001b[0m \u001b[0mmethod\u001b[0m\u001b[0;34m,\u001b[0m \u001b[0;34m*\u001b[0m\u001b[0margs\u001b[0m\u001b[0;34m,\u001b[0m \u001b[0;34m**\u001b[0m\u001b[0mkwds\u001b[0m\u001b[0;34m)\u001b[0m\u001b[0;34m\u001b[0m\u001b[0;34m\u001b[0m\u001b[0m\n\u001b[0m\u001b[1;32m     67\u001b[0m \u001b[0;34m\u001b[0m\u001b[0m\n\u001b[1;32m     68\u001b[0m \u001b[0;34m\u001b[0m\u001b[0m\n",
            "\u001b[0;32m/usr/local/lib/python3.7/dist-packages/numpy/core/fromnumeric.py\u001b[0m in \u001b[0;36m_wrapit\u001b[0;34m(obj, method, *args, **kwds)\u001b[0m\n\u001b[1;32m     41\u001b[0m     \u001b[0;32mexcept\u001b[0m \u001b[0mAttributeError\u001b[0m\u001b[0;34m:\u001b[0m\u001b[0;34m\u001b[0m\u001b[0;34m\u001b[0m\u001b[0m\n\u001b[1;32m     42\u001b[0m         \u001b[0mwrap\u001b[0m \u001b[0;34m=\u001b[0m \u001b[0;32mNone\u001b[0m\u001b[0;34m\u001b[0m\u001b[0;34m\u001b[0m\u001b[0m\n\u001b[0;32m---> 43\u001b[0;31m     \u001b[0mresult\u001b[0m \u001b[0;34m=\u001b[0m \u001b[0mgetattr\u001b[0m\u001b[0;34m(\u001b[0m\u001b[0masarray\u001b[0m\u001b[0;34m(\u001b[0m\u001b[0mobj\u001b[0m\u001b[0;34m)\u001b[0m\u001b[0;34m,\u001b[0m \u001b[0mmethod\u001b[0m\u001b[0;34m)\u001b[0m\u001b[0;34m(\u001b[0m\u001b[0;34m*\u001b[0m\u001b[0margs\u001b[0m\u001b[0;34m,\u001b[0m \u001b[0;34m**\u001b[0m\u001b[0mkwds\u001b[0m\u001b[0;34m)\u001b[0m\u001b[0;34m\u001b[0m\u001b[0;34m\u001b[0m\u001b[0m\n\u001b[0m\u001b[1;32m     44\u001b[0m     \u001b[0;32mif\u001b[0m \u001b[0mwrap\u001b[0m\u001b[0;34m:\u001b[0m\u001b[0;34m\u001b[0m\u001b[0;34m\u001b[0m\u001b[0m\n\u001b[1;32m     45\u001b[0m         \u001b[0;32mif\u001b[0m \u001b[0;32mnot\u001b[0m \u001b[0misinstance\u001b[0m\u001b[0;34m(\u001b[0m\u001b[0mresult\u001b[0m\u001b[0;34m,\u001b[0m \u001b[0mmu\u001b[0m\u001b[0;34m.\u001b[0m\u001b[0mndarray\u001b[0m\u001b[0;34m)\u001b[0m\u001b[0;34m:\u001b[0m\u001b[0;34m\u001b[0m\u001b[0;34m\u001b[0m\u001b[0m\n",
            "\u001b[0;31mTypeError\u001b[0m: 'float' object cannot be interpreted as an integer"
          ]
        }
      ]
    },
    {
      "cell_type": "markdown",
      "source": [
        "Testing"
      ],
      "metadata": {
        "id": "cIHrV1o35KSk"
      }
    },
    {
      "cell_type": "code",
      "source": [
        "a = np.array([1, 2, 3, 4, 5], float)\n",
        "b = np.array([6, 6, 6, 6, 6], float)\n",
        "c = b-a\n",
        "b = np.append(b, c);\n",
        "\n",
        "print(b)\n"
      ],
      "metadata": {
        "id": "fhZI5Kub5J9c",
        "outputId": "3a2c6bec-4310-4ea3-d24e-133ece7b7024",
        "colab": {
          "base_uri": "https://localhost:8080/"
        }
      },
      "execution_count": 6,
      "outputs": [
        {
          "output_type": "stream",
          "name": "stdout",
          "text": [
            "[6. 6. 6. 6. 6. 5. 4. 3. 2. 1.]\n"
          ]
        }
      ]
    }
  ]
}