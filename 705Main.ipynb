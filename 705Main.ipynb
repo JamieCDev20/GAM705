{
  "nbformat": 4,
  "nbformat_minor": 0,
  "metadata": {
    "colab": {
      "name": "705Main.ipynb",
      "provenance": [],
      "collapsed_sections": [],
      "authorship_tag": "ABX9TyON+UumhKOXtpz+saaceb2A",
      "include_colab_link": true
    },
    "kernelspec": {
      "name": "python3",
      "display_name": "Python 3"
    },
    "language_info": {
      "name": "python"
    },
    "accelerator": "GPU",
    "gpuClass": "standard"
  },
  "cells": [
    {
      "cell_type": "markdown",
      "metadata": {
        "id": "view-in-github",
        "colab_type": "text"
      },
      "source": [
        "<a href=\"https://colab.research.google.com/github/JamieCDev20/GAM705/blob/main/705Main.ipynb\" target=\"_parent\"><img src=\"https://colab.research.google.com/assets/colab-badge.svg\" alt=\"Open In Colab\"/></a>"
      ]
    },
    {
      "cell_type": "markdown",
      "source": [
        "##Setup"
      ],
      "metadata": {
        "id": "0sile4crkxtB"
      }
    },
    {
      "cell_type": "markdown",
      "source": [
        "Imports"
      ],
      "metadata": {
        "id": "CgROgKUq4KBl"
      }
    },
    {
      "cell_type": "code",
      "source": [
        "!pip install pyquaternion\n",
        "!pip install PyDrive"
      ],
      "metadata": {
        "id": "xMlNt9EYOaXs",
        "outputId": "feee36b3-a7ad-4d77-e7aa-f97dc858598d",
        "colab": {
          "base_uri": "https://localhost:8080/"
        }
      },
      "execution_count": 1,
      "outputs": [
        {
          "output_type": "stream",
          "name": "stdout",
          "text": [
            "Looking in indexes: https://pypi.org/simple, https://us-python.pkg.dev/colab-wheels/public/simple/\n",
            "Collecting pyquaternion\n",
            "  Downloading pyquaternion-0.9.9-py3-none-any.whl (14 kB)\n",
            "Requirement already satisfied: numpy in /usr/local/lib/python3.7/dist-packages (from pyquaternion) (1.21.6)\n",
            "Installing collected packages: pyquaternion\n",
            "Successfully installed pyquaternion-0.9.9\n",
            "Looking in indexes: https://pypi.org/simple, https://us-python.pkg.dev/colab-wheels/public/simple/\n",
            "Requirement already satisfied: PyDrive in /usr/local/lib/python3.7/dist-packages (1.3.1)\n",
            "Requirement already satisfied: google-api-python-client>=1.2 in /usr/local/lib/python3.7/dist-packages (from PyDrive) (1.12.11)\n",
            "Requirement already satisfied: oauth2client>=4.0.0 in /usr/local/lib/python3.7/dist-packages (from PyDrive) (4.1.3)\n",
            "Requirement already satisfied: PyYAML>=3.0 in /usr/local/lib/python3.7/dist-packages (from PyDrive) (3.13)\n",
            "Requirement already satisfied: google-auth<3dev,>=1.16.0 in /usr/local/lib/python3.7/dist-packages (from google-api-python-client>=1.2->PyDrive) (1.35.0)\n",
            "Requirement already satisfied: google-api-core<3dev,>=1.21.0 in /usr/local/lib/python3.7/dist-packages (from google-api-python-client>=1.2->PyDrive) (1.31.6)\n",
            "Requirement already satisfied: httplib2<1dev,>=0.15.0 in /usr/local/lib/python3.7/dist-packages (from google-api-python-client>=1.2->PyDrive) (0.17.4)\n",
            "Requirement already satisfied: uritemplate<4dev,>=3.0.0 in /usr/local/lib/python3.7/dist-packages (from google-api-python-client>=1.2->PyDrive) (3.0.1)\n",
            "Requirement already satisfied: six<2dev,>=1.13.0 in /usr/local/lib/python3.7/dist-packages (from google-api-python-client>=1.2->PyDrive) (1.15.0)\n",
            "Requirement already satisfied: google-auth-httplib2>=0.0.3 in /usr/local/lib/python3.7/dist-packages (from google-api-python-client>=1.2->PyDrive) (0.0.4)\n",
            "Requirement already satisfied: requests<3.0.0dev,>=2.18.0 in /usr/local/lib/python3.7/dist-packages (from google-api-core<3dev,>=1.21.0->google-api-python-client>=1.2->PyDrive) (2.23.0)\n",
            "Requirement already satisfied: setuptools>=40.3.0 in /usr/local/lib/python3.7/dist-packages (from google-api-core<3dev,>=1.21.0->google-api-python-client>=1.2->PyDrive) (57.4.0)\n",
            "Requirement already satisfied: packaging>=14.3 in /usr/local/lib/python3.7/dist-packages (from google-api-core<3dev,>=1.21.0->google-api-python-client>=1.2->PyDrive) (21.3)\n",
            "Requirement already satisfied: protobuf<4.0.0dev,>=3.12.0 in /usr/local/lib/python3.7/dist-packages (from google-api-core<3dev,>=1.21.0->google-api-python-client>=1.2->PyDrive) (3.17.3)\n",
            "Requirement already satisfied: pytz in /usr/local/lib/python3.7/dist-packages (from google-api-core<3dev,>=1.21.0->google-api-python-client>=1.2->PyDrive) (2022.1)\n",
            "Requirement already satisfied: googleapis-common-protos<2.0dev,>=1.6.0 in /usr/local/lib/python3.7/dist-packages (from google-api-core<3dev,>=1.21.0->google-api-python-client>=1.2->PyDrive) (1.56.4)\n",
            "Requirement already satisfied: pyasn1-modules>=0.2.1 in /usr/local/lib/python3.7/dist-packages (from google-auth<3dev,>=1.16.0->google-api-python-client>=1.2->PyDrive) (0.2.8)\n",
            "Requirement already satisfied: cachetools<5.0,>=2.0.0 in /usr/local/lib/python3.7/dist-packages (from google-auth<3dev,>=1.16.0->google-api-python-client>=1.2->PyDrive) (4.2.4)\n",
            "Requirement already satisfied: rsa<5,>=3.1.4 in /usr/local/lib/python3.7/dist-packages (from google-auth<3dev,>=1.16.0->google-api-python-client>=1.2->PyDrive) (4.8)\n",
            "Requirement already satisfied: pyasn1>=0.1.7 in /usr/local/lib/python3.7/dist-packages (from oauth2client>=4.0.0->PyDrive) (0.4.8)\n",
            "Requirement already satisfied: pyparsing!=3.0.5,>=2.0.2 in /usr/local/lib/python3.7/dist-packages (from packaging>=14.3->google-api-core<3dev,>=1.21.0->google-api-python-client>=1.2->PyDrive) (3.0.9)\n",
            "Requirement already satisfied: chardet<4,>=3.0.2 in /usr/local/lib/python3.7/dist-packages (from requests<3.0.0dev,>=2.18.0->google-api-core<3dev,>=1.21.0->google-api-python-client>=1.2->PyDrive) (3.0.4)\n",
            "Requirement already satisfied: urllib3!=1.25.0,!=1.25.1,<1.26,>=1.21.1 in /usr/local/lib/python3.7/dist-packages (from requests<3.0.0dev,>=2.18.0->google-api-core<3dev,>=1.21.0->google-api-python-client>=1.2->PyDrive) (1.24.3)\n",
            "Requirement already satisfied: certifi>=2017.4.17 in /usr/local/lib/python3.7/dist-packages (from requests<3.0.0dev,>=2.18.0->google-api-core<3dev,>=1.21.0->google-api-python-client>=1.2->PyDrive) (2022.6.15)\n",
            "Requirement already satisfied: idna<3,>=2.5 in /usr/local/lib/python3.7/dist-packages (from requests<3.0.0dev,>=2.18.0->google-api-core<3dev,>=1.21.0->google-api-python-client>=1.2->PyDrive) (2.10)\n"
          ]
        }
      ]
    },
    {
      "cell_type": "code",
      "source": [
        "import numpy as np\n",
        "import os\n",
        "from pyquaternion import Quaternion\n",
        "import tensorflow as tf\n",
        "from tensorflow.keras.models import Sequential\n",
        "from tensorflow.keras.layers import Input, Dense\n",
        "from pydrive.auth import GoogleAuth\n",
        "from pydrive.drive import GoogleDrive\n",
        "from google.colab import auth\n",
        "from oauth2client.client import GoogleCredentials\n",
        "from random import random as r\n",
        "import matplotlib.pyplot as plt\n",
        "import time"
      ],
      "metadata": {
        "id": "8EzXJwOi4Jqu"
      },
      "execution_count": 2,
      "outputs": []
    },
    {
      "cell_type": "code",
      "source": [
        "#auth.authenticate_user()\n",
        "#gauth = GoogleAuth()\n",
        "#gauth.credentials = GoogleCredentials.get_application_default()\n",
        "#drive = GoogleDrive(gauth)"
      ],
      "metadata": {
        "id": "3MkbBYWxOq0d"
      },
      "execution_count": 3,
      "outputs": []
    },
    {
      "cell_type": "markdown",
      "source": [
        "File Reader"
      ],
      "metadata": {
        "id": "89gQzpdQkJ8j"
      }
    },
    {
      "cell_type": "code",
      "execution_count": 4,
      "metadata": {
        "id": "_pKPS4kSfUh9"
      },
      "outputs": [],
      "source": [
        "class AnimFileReader():\n",
        "  ## \"#\" breaks between nodes | \":\" breaks between values\n",
        "\n",
        "  def __init__(self, _path):\n",
        "    self.path = _path\n",
        "    self.animData = np.array(float)\n",
        "    self.__ReadAnim__(self.path)\n",
        "\n",
        "  def __ReadAnim__(self, path):\n",
        "    file = open(path, 'r')\n",
        "    overallData = file.read()\n",
        "    overallData = overallData.split(\"SS\")\n",
        "    \n",
        "    del overallData[0]\n",
        "\n",
        "    jointCount = len(overallData)\n",
        "    frameCount = len(overallData[0].split('#')[0].split(':')) - 1\n",
        "    \n",
        "    dataLayer = np.array(float)\n",
        "\n",
        "    trainingData = np.array(float)\n",
        "\n",
        "    for j in range(0, frameCount):\n",
        "      for i in range(0, jointCount):\n",
        "\n",
        "        rots = overallData[i].split('#')[0].split(':')\n",
        "        poss = overallData[i].split('#')[1].split(':')\n",
        "\n",
        "        del rots[0]\n",
        "        del poss[0]\n",
        "\n",
        "        #print(len(rots))\n",
        "        #print(rots[0], rots[1], rots[2], rots[3])\n",
        "        #print(dataLayer.shape)\n",
        "        temp = rots[j].split(',')\n",
        "        dataLayer = np.append(dataLayer, temp)\n",
        "        \n",
        "        temp = poss[j].split(',')\n",
        "        dataLayer = np.append(dataLayer, temp)\n",
        "        #print(dataLayer.shape)\n",
        "      dataLayer = np.delete(dataLayer, 0)\n",
        "      trainingData = np.append(trainingData, dataLayer);\n",
        "      dataLayer = np.array(float)\n",
        "      print(\"Completed: \", j + 1)\n",
        "\n",
        "    print(\"Total its: \", (i + 1) * (j + 1))\n",
        "    \n",
        "    trainingData = np.delete(trainingData, 0)\n",
        "    \n",
        "    print(trainingData.shape)\n",
        "    print(trainingData[0])\n",
        "    \n",
        "    self.animData = trainingData;\n",
        "   "
      ]
    },
    {
      "cell_type": "markdown",
      "source": [
        "#File Read"
      ],
      "metadata": {
        "id": "41qrnpkqOmSJ"
      }
    },
    {
      "cell_type": "code",
      "source": [
        "fr = AnimFileReader(\"SHO_EXORCISMWALK_1_UNCLEAN.txt\")"
      ],
      "metadata": {
        "id": "TCeJzuqAoLB1"
      },
      "execution_count": null,
      "outputs": []
    },
    {
      "cell_type": "code",
      "source": [
        "data = fr.animData\n",
        "print(fr.animData.shape)\n",
        "print(data.shape)\n",
        "data = np.reshape(data, [221, 168])\n",
        "print(fr.animData.shape)\n",
        "print(data.shape)"
      ],
      "metadata": {
        "id": "cMdludDDT3Yr",
        "outputId": "aa925bc0-abf9-4909-e94c-ae24ecefcad0",
        "colab": {
          "base_uri": "https://localhost:8080/"
        }
      },
      "execution_count": null,
      "outputs": [
        {
          "output_type": "stream",
          "name": "stdout",
          "text": [
            "(37128,)\n",
            "(37128,)\n",
            "(37128,)\n",
            "(221, 168)\n"
          ]
        }
      ]
    },
    {
      "cell_type": "code",
      "source": [
        "network = Sequential(\n",
        "    Input()\n",
        ")"
      ],
      "metadata": {
        "id": "lGbrt3MgNHds"
      },
      "execution_count": null,
      "outputs": []
    },
    {
      "cell_type": "markdown",
      "source": [
        "Testing"
      ],
      "metadata": {
        "id": "cIHrV1o35KSk"
      }
    },
    {
      "cell_type": "code",
      "source": [
        "a = np.array([1, 2, 3, 4, 5], float)\n",
        "b = np.array([6, 6, 6, 6, 6], float)\n",
        "c = b-a\n",
        "b = np.append(b, c);\n",
        "\n",
        "print(b)\n"
      ],
      "metadata": {
        "id": "fhZI5Kub5J9c",
        "outputId": "3a2c6bec-4310-4ea3-d24e-133ece7b7024",
        "colab": {
          "base_uri": "https://localhost:8080/"
        }
      },
      "execution_count": null,
      "outputs": [
        {
          "output_type": "stream",
          "name": "stdout",
          "text": [
            "[6. 6. 6. 6. 6. 5. 4. 3. 2. 1.]\n"
          ]
        }
      ]
    },
    {
      "cell_type": "markdown",
      "source": [
        "#GAN Training"
      ],
      "metadata": {
        "id": "HwXCl4LPQK0r"
      }
    },
    {
      "cell_type": "markdown",
      "source": [
        "##Training Vars"
      ],
      "metadata": {
        "id": "Z_HgrFkvR3sP"
      }
    },
    {
      "cell_type": "code",
      "source": [
        "def Func(x):\n",
        "  return 0.08 * (x-25)**2"
      ],
      "metadata": {
        "id": "9JcEOpefV5gR"
      },
      "execution_count": 37,
      "outputs": []
    },
    {
      "cell_type": "code",
      "source": [
        "genNoiseDim = 1"
      ],
      "metadata": {
        "id": "191oA-Gto-JB"
      },
      "execution_count": 38,
      "outputs": []
    },
    {
      "cell_type": "code",
      "source": [
        "batchSize = 64\n",
        "iterations = 10000\n",
        "\n",
        "testSeed = np.random.uniform(0, 50, [batchSize, genNoiseDim])\n",
        "\n",
        "holder = []\n",
        "for i in range(batchSize):\n",
        "  holder.append(Func(testSeed[i]))\n",
        "\n",
        "trueData = np.array(holder)"
      ],
      "metadata": {
        "id": "bZC3hJHVR6J5"
      },
      "execution_count": 39,
      "outputs": []
    },
    {
      "cell_type": "markdown",
      "source": [
        "##Networks"
      ],
      "metadata": {
        "id": "rkK3pOeuR8Gs"
      }
    },
    {
      "cell_type": "markdown",
      "source": [
        "Discriminator"
      ],
      "metadata": {
        "id": "ZPHdgVl2RhEW"
      }
    },
    {
      "cell_type": "code",
      "source": [
        "discriminator = Sequential([\n",
        "    Input(shape=(2)),\n",
        "    Dense(50, activation='relu'),\n",
        "    Dense(1, activation='sigmoid')\n",
        "])\n",
        "#discriminator.compile(optimizer=\"Adam\", loss=\"mse\", metrics=[\"Accuracy\"])"
      ],
      "metadata": {
        "id": "JEXLQLiSQM2Y"
      },
      "execution_count": 40,
      "outputs": []
    },
    {
      "cell_type": "markdown",
      "source": [
        "Generator"
      ],
      "metadata": {
        "id": "tw0Ye_lFRjm3"
      }
    },
    {
      "cell_type": "code",
      "source": [
        "generator = Sequential([\n",
        "      Input(shape=(genNoiseDim)),\n",
        "      Dense(50, activation='relu', use_bias=True),\n",
        "      Dense(50, activation='relu'),\n",
        "      Dense(10, activation='relu'),\n",
        "      Dense(1)\n",
        "])\n",
        "#generator.compile(optimizer=\"Adam\", loss=\"mse\", metrics=[\"Accuracy\"])"
      ],
      "metadata": {
        "id": "dNT2ka7dRlE2"
      },
      "execution_count": 41,
      "outputs": []
    },
    {
      "cell_type": "markdown",
      "source": [
        "##Training"
      ],
      "metadata": {
        "id": "tKvU6iKUX-ZB"
      }
    },
    {
      "cell_type": "code",
      "source": [
        "def GenerateRealBatch(size, _noise):\n",
        "  batch = []\n",
        "  for i in range(size):\n",
        "    batch.append(Func(_noise[i]))\n",
        "  return np.array(batch)"
      ],
      "metadata": {
        "id": "5zaZU3TLnXFo"
      },
      "execution_count": 42,
      "outputs": []
    },
    {
      "cell_type": "code",
      "source": [
        "crossEntropy = tf.keras.losses.BinaryCrossentropy(from_logits=True)\n",
        "\n",
        "genOp = tf.keras.optimizers.Adam(1e-4)\n",
        "discOp = tf.keras.optimizers.Adam(1e-4)\n",
        "\n",
        "def DiscLossCalculation(realResults, fakeResults):\n",
        "  fLoss = crossEntropy(tf.zeros_like(fakeResults), fakeResults)\n",
        "  rLoss = crossEntropy(tf.ones_like(realResults), realResults)\n",
        "  return fLoss + rLoss\n",
        "\n",
        "def GenLossCalculation(fakeResults):\n",
        "  return crossEntropy(tf.ones_like(fakeResults), fakeResults)"
      ],
      "metadata": {
        "id": "bBo7oe3gYBuX"
      },
      "execution_count": 43,
      "outputs": []
    },
    {
      "cell_type": "code",
      "source": [
        "checkpointDir = './training_checkpoints'\n",
        "checkpointPrefix = os.path.join(checkpointDir, \"ckpt\")\n",
        "checkpoint = tf.train.Checkpoint(generator_optimizer=genOp,\n",
        "                                 discriminator_optimizer=discOp,\n",
        "                                 generator=generator,\n",
        "                                 discriminator=discriminator)"
      ],
      "metadata": {
        "id": "jNWykON1j0Bi"
      },
      "execution_count": 44,
      "outputs": []
    },
    {
      "cell_type": "code",
      "source": [
        "@tf.function\n",
        "def TrainingStep():\n",
        "  curNoise = np.random.uniform(0, 50, [batchSize, genNoiseDim])\n",
        "  realBatch = GenerateRealBatch(batchSize, curNoise)\n",
        "\n",
        "  with tf.GradientTape() as genGradTape, tf.GradientTape() as discGradTape:\n",
        "    generatedBatch = generator(curNoise)\n",
        "\n",
        "    realResult = discriminator(np.append(curNoise, realBatch, 1), training = True)\n",
        "    fakeResult = discriminator(tf.experimental.numpy.append(curNoise, generatedBatch, 1), training = True)\n",
        "\n",
        "    genLoss = GenLossCalculation(fakeResult)\n",
        "    discLoss = DiscLossCalculation(realResult, fakeResult)\n",
        "\n",
        "    genGrads = genGradTape.gradient(genLoss, generator.trainable_variables)\n",
        "    discGrads = discGradTape.gradient(discLoss, discriminator.trainable_variables)\n",
        "\n",
        "    genOp.apply_gradients(zip(genGrads, generator.trainable_variables))\n",
        "    discOp.apply_gradients(zip(discGrads, discriminator.trainable_variables))\n",
        "\n",
        "    return discLoss, genLoss\n"
      ],
      "metadata": {
        "id": "qt38IUKEBriL"
      },
      "execution_count": 45,
      "outputs": []
    },
    {
      "cell_type": "code",
      "source": [
        "def Training(epochs):\n",
        "  for epoch in range(epochs):\n",
        "    print(\"Epoch: \", epoch + 1)\n",
        "\n",
        "    for i in range(iterations):\n",
        "      dLoss, gLoss = TrainingStep()\n",
        "    \n",
        "    if (epoch + 1) % 1 == 0:\n",
        "      ShowPlot()\n",
        "      #checkpoint.save(file_prefix = checkpointPrefix)\n",
        "    print(dLoss, gLoss)\n"
      ],
      "metadata": {
        "id": "CoMLhQJXsGUs"
      },
      "execution_count": 46,
      "outputs": []
    },
    {
      "cell_type": "markdown",
      "source": [
        "##Test"
      ],
      "metadata": {
        "id": "ffU05J2c7ydm"
      }
    },
    {
      "cell_type": "code",
      "source": [
        "def ShowPlot():\n",
        "  plt.clf()\n",
        "  plt.scatter(testSeed, generator.predict(testSeed), c=\"red\")\n",
        "  plt.scatter(testSeed, trueData, c=\"blue\")\n",
        "  plt.show()"
      ],
      "metadata": {
        "id": "-Aq3c_x5IXiP"
      },
      "execution_count": 47,
      "outputs": []
    },
    {
      "cell_type": "code",
      "source": [
        "ShowPlot()\n",
        "Training(20)\n",
        "ShowPlot()\n",
        "#checkpoint.restore(tf.train.latest_checkpoint(checkpointDir))\n",
        "#print(testSeed)\n",
        "#print(generator.predict(testSeed))"
      ],
      "metadata": {
        "id": "kdICqFFv5rgP",
        "outputId": "2acd9ffd-0cdd-43e0-f70b-88197a211f11",
        "colab": {
          "base_uri": "https://localhost:8080/",
          "height": 1000
        }
      },
      "execution_count": 48,
      "outputs": [
        {
          "output_type": "display_data",
          "data": {
            "text/plain": [
              "<Figure size 432x288 with 1 Axes>"
            ],
            "image/png": "[encoded data removed]"
          },
          "metadata": {
            "needs_background": "light"
          }
        },
        {
          "output_type": "stream",
          "name": "stdout",
          "text": [
            "Epoch:  1\n"
          ]
        },
        {
          "output_type": "stream",
          "name": "stderr",
          "text": [
            "/usr/local/lib/python3.7/dist-packages/tensorflow/python/util/dispatch.py:1082: UserWarning: \"`binary_crossentropy` received `from_logits=True`, but the `output` argument was produced by a sigmoid or softmax activation and thus does not represent logits. Was this intended?\"\n",
            "  return dispatch_target(*args, **kwargs)\n"
          ]
        },
        {
          "output_type": "display_data",
          "data": {
            "text/plain": [
              "<Figure size 432x288 with 1 Axes>"
            ],
            "image/png": "[encoded data removed]"
          },
          "metadata": {
            "needs_background": "light"
          }
        },
        {
          "output_type": "stream",
          "name": "stdout",
          "text": [
            "tf.Tensor(0.58909345, shape=(), dtype=float32) tf.Tensor(1.9956023, shape=(), dtype=float32)\n",
            "Epoch:  2\n"
          ]
        },
        {
          "output_type": "display_data",
          "data": {
            "text/plain": [
              "<Figure size 432x288 with 1 Axes>"
            ],
            "image/png": "[encoded data removed]"
          },
          "metadata": {
            "needs_background": "light"
          }
        },
        {
          "output_type": "stream",
          "name": "stdout",
          "text": [
            "tf.Tensor(1.8407917, shape=(), dtype=float32) tf.Tensor(0.7862697, shape=(), dtype=float32)\n",
            "Epoch:  3\n"
          ]
        },
        {
          "output_type": "display_data",
          "data": {
            "text/plain": [
              "<Figure size 432x288 with 1 Axes>"
            ],
            "image/png": "[encoded data removed]"
          },
          "metadata": {
            "needs_background": "light"
          }
        },
        {
          "output_type": "stream",
          "name": "stdout",
          "text": [
            "tf.Tensor(1.3484458, shape=(), dtype=float32) tf.Tensor(0.88300645, shape=(), dtype=float32)\n",
            "Epoch:  4\n"
          ]
        },
        {
          "output_type": "display_data",
          "data": {
            "text/plain": [
              "<Figure size 432x288 with 1 Axes>"
            ],
            "image/png": "[encoded data removed]"
          },
          "metadata": {
            "needs_background": "light"
          }
        },
        {
          "output_type": "stream",
          "name": "stdout",
          "text": [
            "tf.Tensor(1.0725507, shape=(), dtype=float32) tf.Tensor(0.9831563, shape=(), dtype=float32)\n",
            "Epoch:  5\n"
          ]
        },
        {
          "output_type": "display_data",
          "data": {
            "text/plain": [
              "<Figure size 432x288 with 1 Axes>"
            ],
            "image/png": "[encoded data removed]"
          },
          "metadata": {
            "needs_background": "light"
          }
        },
        {
          "output_type": "stream",
          "name": "stdout",
          "text": [
            "tf.Tensor(1.1878629, shape=(), dtype=float32) tf.Tensor(0.8969288, shape=(), dtype=float32)\n",
            "Epoch:  6\n"
          ]
        },
        {
          "output_type": "display_data",
          "data": {
            "text/plain": [
              "<Figure size 432x288 with 1 Axes>"
            ],
            "image/png": "[encoded data removed]"
          },
          "metadata": {
            "needs_background": "light"
          }
        },
        {
          "output_type": "stream",
          "name": "stdout",
          "text": [
            "tf.Tensor(0.8125058, shape=(), dtype=float32) tf.Tensor(1.4909801, shape=(), dtype=float32)\n",
            "Epoch:  7\n"
          ]
        },
        {
          "output_type": "display_data",
          "data": {
            "text/plain": [
              "<Figure size 432x288 with 1 Axes>"
            ],
            "image/png": "[encoded data removed]"
          },
          "metadata": {
            "needs_background": "light"
          }
        },
        {
          "output_type": "stream",
          "name": "stdout",
          "text": [
            "tf.Tensor(1.1539975, shape=(), dtype=float32) tf.Tensor(1.1655005, shape=(), dtype=float32)\n",
            "Epoch:  8\n"
          ]
        },
        {
          "output_type": "display_data",
          "data": {
            "text/plain": [
              "<Figure size 432x288 with 1 Axes>"
            ],
            "image/png": "[encoded data removed]"
          },
          "metadata": {
            "needs_background": "light"
          }
        },
        {
          "output_type": "stream",
          "name": "stdout",
          "text": [
            "tf.Tensor(1.3768137, shape=(), dtype=float32) tf.Tensor(0.79677784, shape=(), dtype=float32)\n",
            "Epoch:  9\n"
          ]
        },
        {
          "output_type": "display_data",
          "data": {
            "text/plain": [
              "<Figure size 432x288 with 1 Axes>"
            ],
            "image/png": "[encoded data removed]"
          },
          "metadata": {
            "needs_background": "light"
          }
        },
        {
          "output_type": "stream",
          "name": "stdout",
          "text": [
            "tf.Tensor(1.0749052, shape=(), dtype=float32) tf.Tensor(1.0133457, shape=(), dtype=float32)\n",
            "Epoch:  10\n"
          ]
        },
        {
          "output_type": "display_data",
          "data": {
            "text/plain": [
              "<Figure size 432x288 with 1 Axes>"
            ],
            "image/png": "[encoded data removed]"
          },
          "metadata": {
            "needs_background": "light"
          }
        },
        {
          "output_type": "stream",
          "name": "stdout",
          "text": [
            "tf.Tensor(1.1196299, shape=(), dtype=float32) tf.Tensor(1.0240246, shape=(), dtype=float32)\n",
            "Epoch:  11\n"
          ]
        },
        {
          "output_type": "display_data",
          "data": {
            "text/plain": [
              "<Figure size 432x288 with 1 Axes>"
            ],
            "image/png": "[encoded data removed]"
          },
          "metadata": {
            "needs_background": "light"
          }
        },
        {
          "output_type": "stream",
          "name": "stdout",
          "text": [
            "tf.Tensor(1.3621538, shape=(), dtype=float32) tf.Tensor(0.7310488, shape=(), dtype=float32)\n",
            "Epoch:  12\n"
          ]
        },
        {
          "output_type": "display_data",
          "data": {
            "text/plain": [
              "<Figure size 432x288 with 1 Axes>"
            ],
            "image/png": "[encoded data removed]"
          },
          "metadata": {
            "needs_background": "light"
          }
        },
        {
          "output_type": "stream",
          "name": "stdout",
          "text": [
            "tf.Tensor(1.3832083, shape=(), dtype=float32) tf.Tensor(0.69101804, shape=(), dtype=float32)\n",
            "Epoch:  13\n"
          ]
        },
        {
          "output_type": "display_data",
          "data": {
            "text/plain": [
              "<Figure size 432x288 with 1 Axes>"
            ],
            "image/png": "[encoded data removed]"
          },
          "metadata": {
            "needs_background": "light"
          }
        },
        {
          "output_type": "stream",
          "name": "stdout",
          "text": [
            "tf.Tensor(1.3794329, shape=(), dtype=float32) tf.Tensor(0.7004312, shape=(), dtype=float32)\n",
            "Epoch:  14\n"
          ]
        },
        {
          "output_type": "display_data",
          "data": {
            "text/plain": [
              "<Figure size 432x288 with 1 Axes>"
            ],
            "image/png": "[encoded data removed]"
          },
          "metadata": {
            "needs_background": "light"
          }
        },
        {
          "output_type": "stream",
          "name": "stdout",
          "text": [
            "tf.Tensor(1.384989, shape=(), dtype=float32) tf.Tensor(0.6962263, shape=(), dtype=float32)\n",
            "Epoch:  15\n"
          ]
        },
        {
          "output_type": "display_data",
          "data": {
            "text/plain": [
              "<Figure size 432x288 with 1 Axes>"
            ],
            "image/png": "[encoded data removed]"
          },
          "metadata": {
            "needs_background": "light"
          }
        },
        {
          "output_type": "stream",
          "name": "stdout",
          "text": [
            "tf.Tensor(1.3807615, shape=(), dtype=float32) tf.Tensor(0.6980992, shape=(), dtype=float32)\n",
            "Epoch:  16\n"
          ]
        },
        {
          "output_type": "display_data",
          "data": {
            "text/plain": [
              "<Figure size 432x288 with 1 Axes>"
            ],
            "image/png": "[encoded data removed]"
          },
          "metadata": {
            "needs_background": "light"
          }
        },
        {
          "output_type": "stream",
          "name": "stdout",
          "text": [
            "tf.Tensor(1.3818899, shape=(), dtype=float32) tf.Tensor(0.69742393, shape=(), dtype=float32)\n",
            "Epoch:  17\n"
          ]
        },
        {
          "output_type": "display_data",
          "data": {
            "text/plain": [
              "<Figure size 432x288 with 1 Axes>"
            ],
            "image/png": "[encoded data removed]"
          },
          "metadata": {
            "needs_background": "light"
          }
        },
        {
          "output_type": "stream",
          "name": "stdout",
          "text": [
            "tf.Tensor(1.3839303, shape=(), dtype=float32) tf.Tensor(0.69260585, shape=(), dtype=float32)\n",
            "Epoch:  18\n"
          ]
        },
        {
          "output_type": "display_data",
          "data": {
            "text/plain": [
              "<Figure size 432x288 with 1 Axes>"
            ],
            "image/png": "[encoded data removed]"
          },
          "metadata": {
            "needs_background": "light"
          }
        },
        {
          "output_type": "stream",
          "name": "stdout",
          "text": [
            "tf.Tensor(1.3770208, shape=(), dtype=float32) tf.Tensor(0.69879854, shape=(), dtype=float32)\n",
            "Epoch:  19\n"
          ]
        },
        {
          "output_type": "display_data",
          "data": {
            "text/plain": [
              "<Figure size 432x288 with 1 Axes>"
            ],
            "image/png": "[encoded data removed]"
          },
          "metadata": {
            "needs_background": "light"
          }
        },
        {
          "output_type": "stream",
          "name": "stdout",
          "text": [
            "tf.Tensor(1.3841035, shape=(), dtype=float32) tf.Tensor(0.6950642, shape=(), dtype=float32)\n",
            "Epoch:  20\n"
          ]
        },
        {
          "output_type": "display_data",
          "data": {
            "text/plain": [
              "<Figure size 432x288 with 1 Axes>"
            ],
            "image/png": "[encoded data removed]"
          },
          "metadata": {
            "needs_background": "light"
          }
        },
        {
          "output_type": "stream",
          "name": "stdout",
          "text": [
            "tf.Tensor(1.3788621, shape=(), dtype=float32) tf.Tensor(0.6969482, shape=(), dtype=float32)\n"
          ]
        },
        {
          "output_type": "display_data",
          "data": {
            "text/plain": [
              "<Figure size 432x288 with 1 Axes>"
            ],
            "image/png": "[encoded data removed]"
          },
          "metadata": {
            "needs_background": "light"
          }
        }
      ]
    },
    {
      "cell_type": "markdown",
      "source": [
        "#Accuracy Testing"
      ],
      "metadata": {
        "id": "oWITmsjLCBsu"
      }
    },
    {
      "cell_type": "code",
      "source": [
        "batch = []\n",
        "for i in range(1000):\n",
        "  x = r() * 50\n",
        "  if i % 2 == 0:\n",
        "    batch.append([x, generator.predict(np.array([x]))[0][0]])\n",
        "  else:\n",
        "    batch.append([x, Func(x)])\n"
      ],
      "metadata": {
        "id": "F-lBeJZbCAr3"
      },
      "execution_count": 49,
      "outputs": []
    },
    {
      "cell_type": "code",
      "source": [
        "results = discriminator.predict(np.array(batch))"
      ],
      "metadata": {
        "id": "P_WDmS1KD5DJ"
      },
      "execution_count": 50,
      "outputs": []
    },
    {
      "cell_type": "code",
      "source": [
        "print(results)"
      ],
      "metadata": {
        "id": "lRkIvIqeD_6b",
        "outputId": "67074bf1-a2b1-4cc6-e0d3-1904fc3a7cd7",
        "colab": {
          "base_uri": "https://localhost:8080/"
        }
      },
      "execution_count": 51,
      "outputs": [
        {
          "output_type": "stream",
          "name": "stdout",
          "text": [
            "[[0.4673337 ]\n",
            " [0.5106035 ]\n",
            " [0.49307907]\n",
            " [0.57021064]\n",
            " [0.55300605]\n",
            " [0.5073728 ]\n",
            " [0.55994165]\n",
            " [0.48645166]\n",
            " [0.4927277 ]\n",
            " [0.48710802]\n",
            " [0.5122124 ]\n",
            " [0.46509093]\n",
            " [0.46598056]\n",
            " [0.5126345 ]\n",
            " [0.48009855]\n",
            " [0.55885017]\n",
            " [0.4681537 ]\n",
            " [0.49810854]\n",
            " [0.50087965]\n",
            " [0.50751495]\n",
            " [0.46231583]\n",
            " [0.46382987]\n",
            " [0.49538794]\n",
            " [0.53023505]\n",
            " [0.46737546]\n",
            " [0.52671045]\n",
            " [0.5240271 ]\n",
            " [0.46778923]\n",
            " [0.46898845]\n",
            " [0.4987963 ]\n",
            " [0.4623087 ]\n",
            " [0.5161427 ]\n",
            " [0.49294305]\n",
            " [0.49686056]\n",
            " [0.49318892]\n",
            " [0.5398616 ]\n",
            " [0.4755493 ]\n",
            " [0.5015633 ]\n",
            " [0.55654347]\n",
            " [0.5206387 ]\n",
            " [0.46899775]\n",
            " [0.5120792 ]\n",
            " [0.4586142 ]\n",
            " [0.49768227]\n",
            " [0.5016203 ]\n",
            " [0.51400197]\n",
            " [0.46894792]\n",
            " [0.5210816 ]\n",
            " [0.46021017]\n",
            " [0.45145315]\n",
            " [0.49237865]\n",
            " [0.51276195]\n",
            " [0.45961267]\n",
            " [0.53648126]\n",
            " [0.4651498 ]\n",
            " [0.55012065]\n",
            " [0.45801625]\n",
            " [0.50934935]\n",
            " [0.5113004 ]\n",
            " [0.51727146]\n",
            " [0.46787652]\n",
            " [0.5343477 ]\n",
            " [0.5565784 ]\n",
            " [0.51728004]\n",
            " [0.46576437]\n",
            " [0.4872755 ]\n",
            " [0.5073263 ]\n",
            " [0.46791032]\n",
            " [0.4650683 ]\n",
            " [0.46802664]\n",
            " [0.46763122]\n",
            " [0.49236682]\n",
            " [0.5273649 ]\n",
            " [0.50309205]\n",
            " [0.46322325]\n",
            " [0.4887375 ]\n",
            " [0.54184437]\n",
            " [0.4664329 ]\n",
            " [0.54036903]\n",
            " [0.49334967]\n",
            " [0.51666725]\n",
            " [0.5044656 ]\n",
            " [0.5494806 ]\n",
            " [0.52043164]\n",
            " [0.48510033]\n",
            " [0.46522585]\n",
            " [0.461763  ]\n",
            " [0.49672958]\n",
            " [0.45848787]\n",
            " [0.46113878]\n",
            " [0.50904673]\n",
            " [0.53265715]\n",
            " [0.46903855]\n",
            " [0.5156623 ]\n",
            " [0.46698394]\n",
            " [0.4897166 ]\n",
            " [0.5158784 ]\n",
            " [0.5150884 ]\n",
            " [0.46677968]\n",
            " [0.48362482]\n",
            " [0.45973912]\n",
            " [0.5232949 ]\n",
            " [0.49373722]\n",
            " [0.5149567 ]\n",
            " [0.4924789 ]\n",
            " [0.51026386]\n",
            " [0.49633986]\n",
            " [0.5234981 ]\n",
            " [0.5074377 ]\n",
            " [0.46724728]\n",
            " [0.57263094]\n",
            " [0.53248304]\n",
            " [0.52300113]\n",
            " [0.4693109 ]\n",
            " [0.52699834]\n",
            " [0.48720375]\n",
            " [0.5144505 ]\n",
            " [0.50503284]\n",
            " [0.51518816]\n",
            " [0.4679743 ]\n",
            " [0.5244383 ]\n",
            " [0.4834752 ]\n",
            " [0.45832175]\n",
            " [0.5392586 ]\n",
            " [0.5180252 ]\n",
            " [0.46580368]\n",
            " [0.54900146]\n",
            " [0.5003795 ]\n",
            " [0.54191834]\n",
            " [0.48301426]\n",
            " [0.5270955 ]\n",
            " [0.4832725 ]\n",
            " [0.48972562]\n",
            " [0.46851462]\n",
            " [0.4679917 ]\n",
            " [0.4917023 ]\n",
            " [0.5147216 ]\n",
            " [0.5070403 ]\n",
            " [0.51173425]\n",
            " [0.49175486]\n",
            " [0.4574019 ]\n",
            " [0.5317669 ]\n",
            " [0.5040925 ]\n",
            " [0.5130975 ]\n",
            " [0.45845452]\n",
            " [0.5186462 ]\n",
            " [0.549425  ]\n",
            " [0.500836  ]\n",
            " [0.4670023 ]\n",
            " [0.5284636 ]\n",
            " [0.45863825]\n",
            " [0.53352386]\n",
            " [0.5043951 ]\n",
            " [0.4684229 ]\n",
            " [0.46564543]\n",
            " [0.49981493]\n",
            " [0.49563602]\n",
            " [0.5023166 ]\n",
            " [0.53544354]\n",
            " [0.49849957]\n",
            " [0.49968964]\n",
            " [0.46465066]\n",
            " [0.51474077]\n",
            " [0.46485233]\n",
            " [0.468012  ]\n",
            " [0.50687766]\n",
            " [0.46452463]\n",
            " [0.5307812 ]\n",
            " [0.5216744 ]\n",
            " [0.4965046 ]\n",
            " [0.4893306 ]\n",
            " [0.47368762]\n",
            " [0.50027114]\n",
            " [0.46624085]\n",
            " [0.4688376 ]\n",
            " [0.56661665]\n",
            " [0.50045884]\n",
            " [0.52444893]\n",
            " [0.5512666 ]\n",
            " [0.5492471 ]\n",
            " [0.5445108 ]\n",
            " [0.4667449 ]\n",
            " [0.48355335]\n",
            " [0.46811825]\n",
            " [0.5244508 ]\n",
            " [0.53291965]\n",
            " [0.47223952]\n",
            " [0.5169014 ]\n",
            " [0.4636809 ]\n",
            " [0.46873608]\n",
            " [0.46157327]\n",
            " [0.5282334 ]\n",
            " [0.5005039 ]\n",
            " [0.5474241 ]\n",
            " [0.510127  ]\n",
            " [0.48120672]\n",
            " [0.46535838]\n",
            " [0.46680233]\n",
            " [0.4958963 ]\n",
            " [0.5363222 ]\n",
            " [0.52755564]\n",
            " [0.47734478]\n",
            " [0.49379277]\n",
            " [0.49650306]\n",
            " [0.47161806]\n",
            " [0.4789399 ]\n",
            " [0.5117924 ]\n",
            " [0.51724106]\n",
            " [0.51404434]\n",
            " [0.46824515]\n",
            " [0.5100217 ]\n",
            " [0.49267703]\n",
            " [0.46450695]\n",
            " [0.49026507]\n",
            " [0.49533436]\n",
            " [0.5286694 ]\n",
            " [0.46657917]\n",
            " [0.5306977 ]\n",
            " [0.5116565 ]\n",
            " [0.49035162]\n",
            " [0.47301507]\n",
            " [0.5066484 ]\n",
            " [0.46106514]\n",
            " [0.4644244 ]\n",
            " [0.5405515 ]\n",
            " [0.4591687 ]\n",
            " [0.4587238 ]\n",
            " [0.46809986]\n",
            " [0.4660272 ]\n",
            " [0.54497206]\n",
            " [0.48446274]\n",
            " [0.52591646]\n",
            " [0.5277557 ]\n",
            " [0.4647486 ]\n",
            " [0.49554068]\n",
            " [0.49230167]\n",
            " [0.4734426 ]\n",
            " [0.5074298 ]\n",
            " [0.50871336]\n",
            " [0.49773306]\n",
            " [0.501758  ]\n",
            " [0.54513526]\n",
            " [0.52774984]\n",
            " [0.507455  ]\n",
            " [0.5031046 ]\n",
            " [0.48219526]\n",
            " [0.5192113 ]\n",
            " [0.48844674]\n",
            " [0.49471644]\n",
            " [0.47607872]\n",
            " [0.5417882 ]\n",
            " [0.49270523]\n",
            " [0.47337615]\n",
            " [0.46134838]\n",
            " [0.51473135]\n",
            " [0.5202522 ]\n",
            " [0.4835285 ]\n",
            " [0.4943159 ]\n",
            " [0.49283478]\n",
            " [0.468408  ]\n",
            " [0.50364393]\n",
            " [0.51286143]\n",
            " [0.52651924]\n",
            " [0.47659534]\n",
            " [0.46636304]\n",
            " [0.49743244]\n",
            " [0.46903053]\n",
            " [0.50840425]\n",
            " [0.46893197]\n",
            " [0.510142  ]\n",
            " [0.46757844]\n",
            " [0.4797956 ]\n",
            " [0.4929043 ]\n",
            " [0.531909  ]\n",
            " [0.50647867]\n",
            " [0.4606932 ]\n",
            " [0.4937502 ]\n",
            " [0.5577963 ]\n",
            " [0.51796067]\n",
            " [0.46009976]\n",
            " [0.5270426 ]\n",
            " [0.46729875]\n",
            " [0.46129778]\n",
            " [0.5114336 ]\n",
            " [0.47426468]\n",
            " [0.567399  ]\n",
            " [0.46573114]\n",
            " [0.51377845]\n",
            " [0.4688691 ]\n",
            " [0.52367043]\n",
            " [0.46887934]\n",
            " [0.5367176 ]\n",
            " [0.4685684 ]\n",
            " [0.52078277]\n",
            " [0.5240482 ]\n",
            " [0.47339293]\n",
            " [0.52908653]\n",
            " [0.4667998 ]\n",
            " [0.4667893 ]\n",
            " [0.531329  ]\n",
            " [0.50665057]\n",
            " [0.51067036]\n",
            " [0.46534258]\n",
            " [0.45801187]\n",
            " [0.51173395]\n",
            " [0.46785977]\n",
            " [0.47887808]\n",
            " [0.49669364]\n",
            " [0.46486068]\n",
            " [0.45830756]\n",
            " [0.4939525 ]\n",
            " [0.51839626]\n",
            " [0.49600363]\n",
            " [0.5231985 ]\n",
            " [0.4593036 ]\n",
            " [0.5366992 ]\n",
            " [0.57063717]\n",
            " [0.49506488]\n",
            " [0.466498  ]\n",
            " [0.46676952]\n",
            " [0.46100503]\n",
            " [0.47897866]\n",
            " [0.4649262 ]\n",
            " [0.52747416]\n",
            " [0.46782467]\n",
            " [0.47081432]\n",
            " [0.5175534 ]\n",
            " [0.48536488]\n",
            " [0.46899512]\n",
            " [0.49168816]\n",
            " [0.4879588 ]\n",
            " [0.502331  ]\n",
            " [0.5056082 ]\n",
            " [0.52134013]\n",
            " [0.49525738]\n",
            " [0.46726394]\n",
            " [0.526696  ]\n",
            " [0.4929883 ]\n",
            " [0.49230528]\n",
            " [0.50224656]\n",
            " [0.51169276]\n",
            " [0.49419323]\n",
            " [0.55256814]\n",
            " [0.48381194]\n",
            " [0.5484589 ]\n",
            " [0.50804645]\n",
            " [0.505207  ]\n",
            " [0.4908365 ]\n",
            " [0.52756435]\n",
            " [0.4681822 ]\n",
            " [0.5044738 ]\n",
            " [0.45883375]\n",
            " [0.4662439 ]\n",
            " [0.4977221 ]\n",
            " [0.46250838]\n",
            " [0.46017715]\n",
            " [0.52321774]\n",
            " [0.50209457]\n",
            " [0.46564415]\n",
            " [0.5022412 ]\n",
            " [0.46538296]\n",
            " [0.53956795]\n",
            " [0.4760362 ]\n",
            " [0.5324047 ]\n",
            " [0.526025  ]\n",
            " [0.53664464]\n",
            " [0.5097688 ]\n",
            " [0.5613898 ]\n",
            " [0.46657604]\n",
            " [0.50394446]\n",
            " [0.46726555]\n",
            " [0.4661943 ]\n",
            " [0.55501   ]\n",
            " [0.49215588]\n",
            " [0.5004137 ]\n",
            " [0.46773958]\n",
            " [0.5053393 ]\n",
            " [0.48040554]\n",
            " [0.46683818]\n",
            " [0.5059929 ]\n",
            " [0.4656472 ]\n",
            " [0.46863282]\n",
            " [0.469057  ]\n",
            " [0.47447357]\n",
            " [0.49520767]\n",
            " [0.5427179 ]\n",
            " [0.4925736 ]\n",
            " [0.46468738]\n",
            " [0.5217911 ]\n",
            " [0.49634126]\n",
            " [0.5252077 ]\n",
            " [0.5211258 ]\n",
            " [0.49321693]\n",
            " [0.46629906]\n",
            " [0.49041516]\n",
            " [0.49526942]\n",
            " [0.46814293]\n",
            " [0.46660376]\n",
            " [0.4690603 ]\n",
            " [0.54208505]\n",
            " [0.5157207 ]\n",
            " [0.5379063 ]\n",
            " [0.5174407 ]\n",
            " [0.55333865]\n",
            " [0.46767786]\n",
            " [0.5312655 ]\n",
            " [0.51171935]\n",
            " [0.4591663 ]\n",
            " [0.46627572]\n",
            " [0.4951387 ]\n",
            " [0.50566685]\n",
            " [0.51085657]\n",
            " [0.46502504]\n",
            " [0.51550335]\n",
            " [0.5213325 ]\n",
            " [0.46036738]\n",
            " [0.49262333]\n",
            " [0.49452558]\n",
            " [0.5141873 ]\n",
            " [0.49594685]\n",
            " [0.49451745]\n",
            " [0.50678146]\n",
            " [0.51705915]\n",
            " [0.5173986 ]\n",
            " [0.49586987]\n",
            " [0.49217412]\n",
            " [0.4918221 ]\n",
            " [0.51146907]\n",
            " [0.500309  ]\n",
            " [0.51855177]\n",
            " [0.46522954]\n",
            " [0.48906693]\n",
            " [0.4902998 ]\n",
            " [0.4634337 ]\n",
            " [0.49451375]\n",
            " [0.46593377]\n",
            " [0.4922193 ]\n",
            " [0.4683794 ]\n",
            " [0.49673498]\n",
            " [0.50616163]\n",
            " [0.47661385]\n",
            " [0.517412  ]\n",
            " [0.46841347]\n",
            " [0.49921197]\n",
            " [0.5246499 ]\n",
            " [0.5146434 ]\n",
            " [0.5154498 ]\n",
            " [0.49807683]\n",
            " [0.52534735]\n",
            " [0.5153829 ]\n",
            " [0.465115  ]\n",
            " [0.525184  ]\n",
            " [0.46718857]\n",
            " [0.5065372 ]\n",
            " [0.52530223]\n",
            " [0.50411516]\n",
            " [0.5102584 ]\n",
            " [0.49567387]\n",
            " [0.49369332]\n",
            " [0.49146548]\n",
            " [0.49561974]\n",
            " [0.5027643 ]\n",
            " [0.52332973]\n",
            " [0.48896676]\n",
            " [0.5272789 ]\n",
            " [0.46076873]\n",
            " [0.4649121 ]\n",
            " [0.4672961 ]\n",
            " [0.46880534]\n",
            " [0.49722812]\n",
            " [0.4808429 ]\n",
            " [0.5701163 ]\n",
            " [0.46294296]\n",
            " [0.54390824]\n",
            " [0.5056842 ]\n",
            " [0.49414968]\n",
            " [0.5269753 ]\n",
            " [0.49245435]\n",
            " [0.5115553 ]\n",
            " [0.48310477]\n",
            " [0.49088374]\n",
            " [0.4871836 ]\n",
            " [0.5036403 ]\n",
            " [0.49663135]\n",
            " [0.5049349 ]\n",
            " [0.52021646]\n",
            " [0.49274147]\n",
            " [0.50928634]\n",
            " [0.53652924]\n",
            " [0.48724315]\n",
            " [0.45908302]\n",
            " [0.53317755]\n",
            " [0.4987107 ]\n",
            " [0.49003863]\n",
            " [0.46532637]\n",
            " [0.46915963]\n",
            " [0.47929534]\n",
            " [0.5503896 ]\n",
            " [0.5364778 ]\n",
            " [0.49362394]\n",
            " [0.49540466]\n",
            " [0.55446184]\n",
            " [0.49247497]\n",
            " [0.54225737]\n",
            " [0.4938133 ]\n",
            " [0.46666938]\n",
            " [0.5402984 ]\n",
            " [0.49043372]\n",
            " [0.49306142]\n",
            " [0.5167459 ]\n",
            " [0.466156  ]\n",
            " [0.5143073 ]\n",
            " [0.4958196 ]\n",
            " [0.50958043]\n",
            " [0.46631813]\n",
            " [0.46769243]\n",
            " [0.4931055 ]\n",
            " [0.50047785]\n",
            " [0.45797303]\n",
            " [0.5270526 ]\n",
            " [0.46639943]\n",
            " [0.4594543 ]\n",
            " [0.49014047]\n",
            " [0.4918124 ]\n",
            " [0.5033224 ]\n",
            " [0.5508679 ]\n",
            " [0.5280076 ]\n",
            " [0.45720994]\n",
            " [0.5204538 ]\n",
            " [0.46496883]\n",
            " [0.4842325 ]\n",
            " [0.46127257]\n",
            " [0.51553243]\n",
            " [0.517887  ]\n",
            " [0.49617913]\n",
            " [0.4666073 ]\n",
            " [0.49705616]\n",
            " [0.5012545 ]\n",
            " [0.5240919 ]\n",
            " [0.5497041 ]\n",
            " [0.47669697]\n",
            " [0.50007826]\n",
            " [0.4657532 ]\n",
            " [0.4943245 ]\n",
            " [0.528934  ]\n",
            " [0.53231704]\n",
            " [0.51648295]\n",
            " [0.4789228 ]\n",
            " [0.5291386 ]\n",
            " [0.5593829 ]\n",
            " [0.50847405]\n",
            " [0.4679612 ]\n",
            " [0.5273317 ]\n",
            " [0.5208242 ]\n",
            " [0.5170718 ]\n",
            " [0.52314246]\n",
            " [0.51958036]\n",
            " [0.5262796 ]\n",
            " [0.49560955]\n",
            " [0.5100954 ]\n",
            " [0.5195069 ]\n",
            " [0.5536828 ]\n",
            " [0.5076529 ]\n",
            " [0.46550244]\n",
            " [0.46466914]\n",
            " [0.5523265 ]\n",
            " [0.4964741 ]\n",
            " [0.52971405]\n",
            " [0.49454167]\n",
            " [0.49291366]\n",
            " [0.46900457]\n",
            " [0.46343073]\n",
            " [0.45838848]\n",
            " [0.51491934]\n",
            " [0.4909405 ]\n",
            " [0.51863885]\n",
            " [0.5201473 ]\n",
            " [0.50518847]\n",
            " [0.50275373]\n",
            " [0.4641427 ]\n",
            " [0.45955914]\n",
            " [0.46534404]\n",
            " [0.4667972 ]\n",
            " [0.5176978 ]\n",
            " [0.49081388]\n",
            " [0.5213878 ]\n",
            " [0.4904861 ]\n",
            " [0.5328129 ]\n",
            " [0.52649945]\n",
            " [0.49260905]\n",
            " [0.50921774]\n",
            " [0.53346986]\n",
            " [0.5000383 ]\n",
            " [0.4894135 ]\n",
            " [0.49986616]\n",
            " [0.48750117]\n",
            " [0.46889162]\n",
            " [0.4608435 ]\n",
            " [0.5090965 ]\n",
            " [0.5071635 ]\n",
            " [0.4689472 ]\n",
            " [0.49299344]\n",
            " [0.4743762 ]\n",
            " [0.5082922 ]\n",
            " [0.5032329 ]\n",
            " [0.46822047]\n",
            " [0.5627521 ]\n",
            " [0.52903235]\n",
            " [0.49856094]\n",
            " [0.46797457]\n",
            " [0.5148907 ]\n",
            " [0.48182034]\n",
            " [0.52725184]\n",
            " [0.4649125 ]\n",
            " [0.49904191]\n",
            " [0.46226743]\n",
            " [0.52712625]\n",
            " [0.5126453 ]\n",
            " [0.49647287]\n",
            " [0.46567202]\n",
            " [0.4590897 ]\n",
            " [0.47332498]\n",
            " [0.46656582]\n",
            " [0.4661356 ]\n",
            " [0.47561413]\n",
            " [0.4979983 ]\n",
            " [0.4947273 ]\n",
            " [0.5248114 ]\n",
            " [0.49905503]\n",
            " [0.464984  ]\n",
            " [0.52108884]\n",
            " [0.5355937 ]\n",
            " [0.48815525]\n",
            " [0.4676724 ]\n",
            " [0.549836  ]\n",
            " [0.5305266 ]\n",
            " [0.5186252 ]\n",
            " [0.49100935]\n",
            " [0.5058413 ]\n",
            " [0.49029407]\n",
            " [0.46706244]\n",
            " [0.46101633]\n",
            " [0.51428723]\n",
            " [0.50393856]\n",
            " [0.51883584]\n",
            " [0.5365985 ]\n",
            " [0.518984  ]\n",
            " [0.46863303]\n",
            " [0.50622404]\n",
            " [0.5010706 ]\n",
            " [0.5617656 ]\n",
            " [0.52812135]\n",
            " [0.5024343 ]\n",
            " [0.5172551 ]\n",
            " [0.5230017 ]\n",
            " [0.4620904 ]\n",
            " [0.5249281 ]\n",
            " [0.517192  ]\n",
            " [0.5066116 ]\n",
            " [0.4622907 ]\n",
            " [0.4633696 ]\n",
            " [0.5032459 ]\n",
            " [0.46662328]\n",
            " [0.5290505 ]\n",
            " [0.46414953]\n",
            " [0.52981323]\n",
            " [0.5359678 ]\n",
            " [0.5172717 ]\n",
            " [0.49151945]\n",
            " [0.46016574]\n",
            " [0.50476646]\n",
            " [0.5052167 ]\n",
            " [0.5267202 ]\n",
            " [0.52035004]\n",
            " [0.4652603 ]\n",
            " [0.5165931 ]\n",
            " [0.50512147]\n",
            " [0.5251224 ]\n",
            " [0.46718502]\n",
            " [0.47144625]\n",
            " [0.4940285 ]\n",
            " [0.51604515]\n",
            " [0.49081022]\n",
            " [0.50805867]\n",
            " [0.518974  ]\n",
            " [0.49109644]\n",
            " [0.46487325]\n",
            " [0.46470472]\n",
            " [0.5217621 ]\n",
            " [0.56537044]\n",
            " [0.50786245]\n",
            " [0.49681836]\n",
            " [0.4829783 ]\n",
            " [0.53443956]\n",
            " [0.5067686 ]\n",
            " [0.4958318 ]\n",
            " [0.518455  ]\n",
            " [0.5266488 ]\n",
            " [0.46825096]\n",
            " [0.49390018]\n",
            " [0.51061416]\n",
            " [0.52851975]\n",
            " [0.49512175]\n",
            " [0.48789448]\n",
            " [0.46498632]\n",
            " [0.477267  ]\n",
            " [0.46853802]\n",
            " [0.5164993 ]\n",
            " [0.53974885]\n",
            " [0.49227673]\n",
            " [0.5089241 ]\n",
            " [0.5170377 ]\n",
            " [0.5580522 ]\n",
            " [0.46693507]\n",
            " [0.46097758]\n",
            " [0.47610077]\n",
            " [0.4657601 ]\n",
            " [0.51694757]\n",
            " [0.46691293]\n",
            " [0.5383367 ]\n",
            " [0.48828778]\n",
            " [0.48508433]\n",
            " [0.51342136]\n",
            " [0.46537724]\n",
            " [0.49646077]\n",
            " [0.47519898]\n",
            " [0.46760765]\n",
            " [0.46772894]\n",
            " [0.523314  ]\n",
            " [0.51432395]\n",
            " [0.51966894]\n",
            " [0.5383959 ]\n",
            " [0.568563  ]\n",
            " [0.5252618 ]\n",
            " [0.4933558 ]\n",
            " [0.529226  ]\n",
            " [0.5158525 ]\n",
            " [0.4867355 ]\n",
            " [0.46794584]\n",
            " [0.5063545 ]\n",
            " [0.49690917]\n",
            " [0.51903814]\n",
            " [0.52725923]\n",
            " [0.49885228]\n",
            " [0.5064936 ]\n",
            " [0.5061242 ]\n",
            " [0.4821239 ]\n",
            " [0.5271449 ]\n",
            " [0.5277202 ]\n",
            " [0.49790365]\n",
            " [0.46606714]\n",
            " [0.49602488]\n",
            " [0.55346346]\n",
            " [0.515998  ]\n",
            " [0.5042146 ]\n",
            " [0.5176221 ]\n",
            " [0.46777993]\n",
            " [0.5241732 ]\n",
            " [0.46446666]\n",
            " [0.5263844 ]\n",
            " [0.5277846 ]\n",
            " [0.4667215 ]\n",
            " [0.47153035]\n",
            " [0.46693516]\n",
            " [0.5037243 ]\n",
            " [0.4659465 ]\n",
            " [0.4923229 ]\n",
            " [0.505017  ]\n",
            " [0.5203135 ]\n",
            " [0.47334865]\n",
            " [0.5225315 ]\n",
            " [0.49871704]\n",
            " [0.50299275]\n",
            " [0.4662802 ]\n",
            " [0.4854613 ]\n",
            " [0.46781167]\n",
            " [0.46628454]\n",
            " [0.53205115]\n",
            " [0.4792217 ]\n",
            " [0.4676651 ]\n",
            " [0.4680494 ]\n",
            " [0.5215841 ]\n",
            " [0.4932941 ]\n",
            " [0.53601533]\n",
            " [0.4957865 ]\n",
            " [0.5219035 ]\n",
            " [0.5626513 ]\n",
            " [0.50685614]\n",
            " [0.52252465]\n",
            " [0.5103049 ]\n",
            " [0.57247186]\n",
            " [0.539448  ]\n",
            " [0.46882898]\n",
            " [0.49101773]\n",
            " [0.5092363 ]\n",
            " [0.46431458]\n",
            " [0.46139815]\n",
            " [0.49787828]\n",
            " [0.52719843]\n",
            " [0.558992  ]\n",
            " [0.4946196 ]\n",
            " [0.47653383]\n",
            " [0.5401629 ]\n",
            " [0.43401712]\n",
            " [0.54218036]\n",
            " [0.50900745]\n",
            " [0.4958136 ]\n",
            " [0.50756395]\n",
            " [0.5267338 ]\n",
            " [0.5157437 ]\n",
            " [0.50890726]\n",
            " [0.49354124]\n",
            " [0.46530068]\n",
            " [0.45763966]\n",
            " [0.5059395 ]\n",
            " [0.47954687]\n",
            " [0.49314058]\n",
            " [0.46289784]\n",
            " [0.5270204 ]\n",
            " [0.51484174]\n",
            " [0.52775013]\n",
            " [0.5233352 ]\n",
            " [0.45901483]\n",
            " [0.46705592]\n",
            " [0.4900285 ]\n",
            " [0.48912755]\n",
            " [0.49437067]\n",
            " [0.51664674]\n",
            " [0.54743785]\n",
            " [0.49525177]\n",
            " [0.51809984]\n",
            " [0.5030069 ]\n",
            " [0.53683114]\n",
            " [0.5315879 ]\n",
            " [0.52717626]\n",
            " [0.45759398]\n",
            " [0.48936233]\n",
            " [0.4636361 ]\n",
            " [0.5174447 ]\n",
            " [0.4666081 ]\n",
            " [0.5068606 ]\n",
            " [0.52948403]\n",
            " [0.5264076 ]\n",
            " [0.5664853 ]\n",
            " [0.5225929 ]\n",
            " [0.5180098 ]\n",
            " [0.46819893]\n",
            " [0.5236299 ]\n",
            " [0.5314993 ]\n",
            " [0.5052063 ]\n",
            " [0.52755827]\n",
            " [0.5576955 ]\n",
            " [0.5528374 ]\n",
            " [0.51028186]\n",
            " [0.51754755]\n",
            " [0.46586287]\n",
            " [0.4957985 ]\n",
            " [0.48594657]\n",
            " [0.49212873]\n",
            " [0.4693468 ]\n",
            " [0.51704544]\n",
            " [0.46770963]\n",
            " [0.5247566 ]\n",
            " [0.49329233]\n",
            " [0.46092924]\n",
            " [0.48322973]\n",
            " [0.4767038 ]\n",
            " [0.46536857]\n",
            " [0.5461876 ]\n",
            " [0.53743964]\n",
            " [0.5262536 ]\n",
            " [0.50994533]\n",
            " [0.4666565 ]\n",
            " [0.5111652 ]\n",
            " [0.4713344 ]\n",
            " [0.5150463 ]\n",
            " [0.46488494]\n",
            " [0.54139537]\n",
            " [0.508634  ]\n",
            " [0.49441186]\n",
            " [0.52245706]\n",
            " [0.49634895]\n",
            " [0.5264255 ]\n",
            " [0.46728975]\n",
            " [0.48365015]\n",
            " [0.46432558]\n",
            " [0.5022679 ]\n",
            " [0.49653018]\n",
            " [0.5109944 ]\n",
            " [0.553815  ]\n",
            " [0.5192648 ]\n",
            " [0.5666553 ]\n",
            " [0.5304924 ]\n",
            " [0.46604693]\n",
            " [0.5300702 ]\n",
            " [0.50103414]\n",
            " [0.5219216 ]\n",
            " [0.5196362 ]\n",
            " [0.50026846]\n",
            " [0.49495032]\n",
            " [0.4712548 ]\n",
            " [0.4956595 ]\n",
            " [0.49481636]\n",
            " [0.5343027 ]\n",
            " [0.51307684]\n",
            " [0.51987725]\n",
            " [0.50685245]\n",
            " [0.53180915]\n",
            " [0.46882138]\n",
            " [0.5103185 ]\n",
            " [0.5162296 ]\n",
            " [0.52608484]\n",
            " [0.4755176 ]\n",
            " [0.52277464]\n",
            " [0.47982803]\n",
            " [0.5214628 ]\n",
            " [0.499063  ]\n",
            " [0.49235132]\n",
            " [0.46651304]\n",
            " [0.4966003 ]\n",
            " [0.5276298 ]\n",
            " [0.4587916 ]\n",
            " [0.5132802 ]\n",
            " [0.46805775]\n",
            " [0.5142578 ]\n",
            " [0.49696758]\n",
            " [0.49424955]\n",
            " [0.52385724]\n",
            " [0.5228701 ]\n",
            " [0.49456584]\n",
            " [0.47081608]\n",
            " [0.5384566 ]\n",
            " [0.46669608]\n",
            " [0.46507615]\n",
            " [0.46712726]\n",
            " [0.53676724]\n",
            " [0.5274097 ]\n",
            " [0.49700433]\n",
            " [0.46843606]\n",
            " [0.5132597 ]\n",
            " [0.46719626]\n",
            " [0.488972  ]\n",
            " [0.5270041 ]\n",
            " [0.50662005]\n",
            " [0.46730077]\n",
            " [0.52442366]\n",
            " [0.49275118]\n",
            " [0.49276298]\n",
            " [0.52607447]\n",
            " [0.5477839 ]\n",
            " [0.4654216 ]\n",
            " [0.50688046]\n",
            " [0.49406004]\n",
            " [0.5241931 ]\n",
            " [0.4957635 ]\n",
            " [0.5101051 ]\n",
            " [0.51211727]\n",
            " [0.5290011 ]\n",
            " [0.4797327 ]\n",
            " [0.46593913]\n",
            " [0.46513647]\n",
            " [0.50765014]\n",
            " [0.4714767 ]\n",
            " [0.46754375]\n",
            " [0.4669218 ]\n",
            " [0.49523142]\n",
            " [0.49522263]\n",
            " [0.46502003]\n",
            " [0.51298636]\n",
            " [0.50844455]\n",
            " [0.46623012]\n",
            " [0.5347259 ]\n",
            " [0.53360623]\n",
            " [0.4916443 ]\n",
            " [0.46720734]\n",
            " [0.5366036 ]\n",
            " [0.50426763]\n",
            " [0.5146857 ]\n",
            " [0.5378749 ]\n",
            " [0.46141452]\n",
            " [0.4662244 ]\n",
            " [0.5162436 ]\n",
            " [0.5225676 ]\n",
            " [0.46592093]\n",
            " [0.50419974]\n",
            " [0.5015464 ]\n",
            " [0.5184466 ]\n",
            " [0.52172613]\n",
            " [0.49599737]\n",
            " [0.49661642]\n",
            " [0.4732827 ]\n",
            " [0.51622474]\n",
            " [0.5277451 ]\n",
            " [0.49614257]\n",
            " [0.5452821 ]\n",
            " [0.532177  ]\n",
            " [0.49206927]\n",
            " [0.5389413 ]\n",
            " [0.5093156 ]\n",
            " [0.5206376 ]]\n"
          ]
        }
      ]
    }
  ]
}